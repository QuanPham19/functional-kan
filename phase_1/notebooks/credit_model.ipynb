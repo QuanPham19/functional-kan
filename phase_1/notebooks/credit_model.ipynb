{
 "cells": [
  {
   "cell_type": "code",
   "execution_count": null,
   "metadata": {},
   "outputs": [],
   "source": [
    "!pip install torch"
   ]
  },
  {
   "cell_type": "code",
   "execution_count": 44,
   "metadata": {},
   "outputs": [],
   "source": [
    "#@title 1.3. IMPORT LIBRARY\n",
    "import numpy as np\n",
    "import pandas as pd\n",
    "import matplotlib.pyplot as plt\n",
    "\n",
    "from tqdm import tqdm\n",
    "from sklearn.model_selection import train_test_split, cross_val_score\n",
    "from sklearn.preprocessing import StandardScaler\n",
    "\n",
    "from sklearn.linear_model import LogisticRegression\n",
    "from sklearn.naive_bayes import GaussianNB\n",
    "from sklearn.tree import DecisionTreeClassifier\n",
    "from sklearn.neural_network import MLPClassifier\n",
    "from sklearn.ensemble import RandomForestClassifier\n",
    "\n",
    "import torch.nn as nn\n",
    "import torch.nn.functional as F\n",
    "import torch.optim as optim\n",
    "from torch.utils.data import Dataset, DataLoader\n",
    "from torchmetrics import Accuracy"
   ]
  },
  {
   "cell_type": "code",
   "execution_count": 45,
   "metadata": {},
   "outputs": [
    {
     "data": {
      "text/html": [
       "<div>\n",
       "<style scoped>\n",
       "    .dataframe tbody tr th:only-of-type {\n",
       "        vertical-align: middle;\n",
       "    }\n",
       "\n",
       "    .dataframe tbody tr th {\n",
       "        vertical-align: top;\n",
       "    }\n",
       "\n",
       "    .dataframe thead th {\n",
       "        text-align: right;\n",
       "    }\n",
       "</style>\n",
       "<table border=\"1\" class=\"dataframe\">\n",
       "  <thead>\n",
       "    <tr style=\"text-align: right;\">\n",
       "      <th></th>\n",
       "      <th>Age</th>\n",
       "      <th>Sex</th>\n",
       "      <th>Job</th>\n",
       "      <th>Housing</th>\n",
       "      <th>Saving accounts</th>\n",
       "      <th>Checking account</th>\n",
       "      <th>Credit amount</th>\n",
       "      <th>Duration</th>\n",
       "      <th>Purpose</th>\n",
       "      <th>Risk</th>\n",
       "    </tr>\n",
       "  </thead>\n",
       "  <tbody>\n",
       "    <tr>\n",
       "      <th>0</th>\n",
       "      <td>67</td>\n",
       "      <td>male</td>\n",
       "      <td>2</td>\n",
       "      <td>own</td>\n",
       "      <td>NaN</td>\n",
       "      <td>little</td>\n",
       "      <td>1169</td>\n",
       "      <td>6</td>\n",
       "      <td>radio/TV</td>\n",
       "      <td>1</td>\n",
       "    </tr>\n",
       "    <tr>\n",
       "      <th>1</th>\n",
       "      <td>22</td>\n",
       "      <td>female</td>\n",
       "      <td>2</td>\n",
       "      <td>own</td>\n",
       "      <td>little</td>\n",
       "      <td>moderate</td>\n",
       "      <td>5951</td>\n",
       "      <td>48</td>\n",
       "      <td>radio/TV</td>\n",
       "      <td>0</td>\n",
       "    </tr>\n",
       "    <tr>\n",
       "      <th>2</th>\n",
       "      <td>49</td>\n",
       "      <td>male</td>\n",
       "      <td>1</td>\n",
       "      <td>own</td>\n",
       "      <td>little</td>\n",
       "      <td>NaN</td>\n",
       "      <td>2096</td>\n",
       "      <td>12</td>\n",
       "      <td>education</td>\n",
       "      <td>1</td>\n",
       "    </tr>\n",
       "    <tr>\n",
       "      <th>3</th>\n",
       "      <td>45</td>\n",
       "      <td>male</td>\n",
       "      <td>2</td>\n",
       "      <td>free</td>\n",
       "      <td>little</td>\n",
       "      <td>little</td>\n",
       "      <td>7882</td>\n",
       "      <td>42</td>\n",
       "      <td>furniture/equipment</td>\n",
       "      <td>1</td>\n",
       "    </tr>\n",
       "    <tr>\n",
       "      <th>4</th>\n",
       "      <td>53</td>\n",
       "      <td>male</td>\n",
       "      <td>2</td>\n",
       "      <td>free</td>\n",
       "      <td>little</td>\n",
       "      <td>little</td>\n",
       "      <td>4870</td>\n",
       "      <td>24</td>\n",
       "      <td>car</td>\n",
       "      <td>0</td>\n",
       "    </tr>\n",
       "  </tbody>\n",
       "</table>\n",
       "</div>"
      ],
      "text/plain": [
       "   Age     Sex  Job Housing Saving accounts Checking account  Credit amount  \\\n",
       "0   67    male    2     own             NaN           little           1169   \n",
       "1   22  female    2     own          little         moderate           5951   \n",
       "2   49    male    1     own          little              NaN           2096   \n",
       "3   45    male    2    free          little           little           7882   \n",
       "4   53    male    2    free          little           little           4870   \n",
       "\n",
       "   Duration              Purpose  Risk  \n",
       "0         6             radio/TV     1  \n",
       "1        48             radio/TV     0  \n",
       "2        12            education     1  \n",
       "3        42  furniture/equipment     1  \n",
       "4        24                  car     0  "
      ]
     },
     "execution_count": 45,
     "metadata": {},
     "output_type": "execute_result"
    }
   ],
   "source": [
    "#@title 1.4. RETRIEVE DATA\n",
    "df_credit = pd.read_csv('/workspaces/functional-kan/phase_1/data/german_credit_data.csv')\n",
    "df_credit['Risk'] = df_credit['Risk'].map({'good': 1, 'bad': 0})\n",
    "df_credit.head()"
   ]
  },
  {
   "cell_type": "code",
   "execution_count": 94,
   "metadata": {},
   "outputs": [
    {
     "data": {
      "text/html": [
       "<div>\n",
       "<style scoped>\n",
       "    .dataframe tbody tr th:only-of-type {\n",
       "        vertical-align: middle;\n",
       "    }\n",
       "\n",
       "    .dataframe tbody tr th {\n",
       "        vertical-align: top;\n",
       "    }\n",
       "\n",
       "    .dataframe thead th {\n",
       "        text-align: right;\n",
       "    }\n",
       "</style>\n",
       "<table border=\"1\" class=\"dataframe\">\n",
       "  <thead>\n",
       "    <tr style=\"text-align: right;\">\n",
       "      <th></th>\n",
       "      <th>Age</th>\n",
       "      <th>Job</th>\n",
       "      <th>Credit amount</th>\n",
       "      <th>Duration</th>\n",
       "      <th>Sex_female</th>\n",
       "      <th>Sex_male</th>\n",
       "      <th>Housing_free</th>\n",
       "      <th>Housing_own</th>\n",
       "      <th>Housing_rent</th>\n",
       "      <th>Saving accounts_little</th>\n",
       "      <th>...</th>\n",
       "      <th>Checking account_rich</th>\n",
       "      <th>Purpose_business</th>\n",
       "      <th>Purpose_car</th>\n",
       "      <th>Purpose_domestic appliances</th>\n",
       "      <th>Purpose_education</th>\n",
       "      <th>Purpose_furniture/equipment</th>\n",
       "      <th>Purpose_radio/TV</th>\n",
       "      <th>Purpose_repairs</th>\n",
       "      <th>Purpose_vacation/others</th>\n",
       "      <th>Risk</th>\n",
       "    </tr>\n",
       "  </thead>\n",
       "  <tbody>\n",
       "    <tr>\n",
       "      <th>0</th>\n",
       "      <td>2.766456</td>\n",
       "      <td>0.146949</td>\n",
       "      <td>-0.745131</td>\n",
       "      <td>-1.236478</td>\n",
       "      <td>-0.670280</td>\n",
       "      <td>0.670280</td>\n",
       "      <td>-0.347960</td>\n",
       "      <td>0.634448</td>\n",
       "      <td>-0.466933</td>\n",
       "      <td>-1.232433</td>\n",
       "      <td>...</td>\n",
       "      <td>-0.259299</td>\n",
       "      <td>-0.327749</td>\n",
       "      <td>-0.712949</td>\n",
       "      <td>-0.110208</td>\n",
       "      <td>-0.250398</td>\n",
       "      <td>-0.470108</td>\n",
       "      <td>1.603567</td>\n",
       "      <td>-0.149983</td>\n",
       "      <td>-0.110208</td>\n",
       "      <td>1</td>\n",
       "    </tr>\n",
       "    <tr>\n",
       "      <th>1</th>\n",
       "      <td>-1.191404</td>\n",
       "      <td>0.146949</td>\n",
       "      <td>0.949817</td>\n",
       "      <td>2.248194</td>\n",
       "      <td>1.491914</td>\n",
       "      <td>-1.491914</td>\n",
       "      <td>-0.347960</td>\n",
       "      <td>0.634448</td>\n",
       "      <td>-0.466933</td>\n",
       "      <td>0.811403</td>\n",
       "      <td>...</td>\n",
       "      <td>-0.259299</td>\n",
       "      <td>-0.327749</td>\n",
       "      <td>-0.712949</td>\n",
       "      <td>-0.110208</td>\n",
       "      <td>-0.250398</td>\n",
       "      <td>-0.470108</td>\n",
       "      <td>1.603567</td>\n",
       "      <td>-0.149983</td>\n",
       "      <td>-0.110208</td>\n",
       "      <td>0</td>\n",
       "    </tr>\n",
       "    <tr>\n",
       "      <th>2</th>\n",
       "      <td>1.183312</td>\n",
       "      <td>-1.383771</td>\n",
       "      <td>-0.416562</td>\n",
       "      <td>-0.738668</td>\n",
       "      <td>-0.670280</td>\n",
       "      <td>0.670280</td>\n",
       "      <td>-0.347960</td>\n",
       "      <td>0.634448</td>\n",
       "      <td>-0.466933</td>\n",
       "      <td>0.811403</td>\n",
       "      <td>...</td>\n",
       "      <td>-0.259299</td>\n",
       "      <td>-0.327749</td>\n",
       "      <td>-0.712949</td>\n",
       "      <td>-0.110208</td>\n",
       "      <td>3.993639</td>\n",
       "      <td>-0.470108</td>\n",
       "      <td>-0.623610</td>\n",
       "      <td>-0.149983</td>\n",
       "      <td>-0.110208</td>\n",
       "      <td>1</td>\n",
       "    </tr>\n",
       "    <tr>\n",
       "      <th>3</th>\n",
       "      <td>0.831502</td>\n",
       "      <td>0.146949</td>\n",
       "      <td>1.634247</td>\n",
       "      <td>1.750384</td>\n",
       "      <td>-0.670280</td>\n",
       "      <td>0.670280</td>\n",
       "      <td>2.873893</td>\n",
       "      <td>-1.576173</td>\n",
       "      <td>-0.466933</td>\n",
       "      <td>0.811403</td>\n",
       "      <td>...</td>\n",
       "      <td>-0.259299</td>\n",
       "      <td>-0.327749</td>\n",
       "      <td>-0.712949</td>\n",
       "      <td>-0.110208</td>\n",
       "      <td>-0.250398</td>\n",
       "      <td>2.127172</td>\n",
       "      <td>-0.623610</td>\n",
       "      <td>-0.149983</td>\n",
       "      <td>-0.110208</td>\n",
       "      <td>1</td>\n",
       "    </tr>\n",
       "    <tr>\n",
       "      <th>4</th>\n",
       "      <td>1.535122</td>\n",
       "      <td>0.146949</td>\n",
       "      <td>0.566664</td>\n",
       "      <td>0.256953</td>\n",
       "      <td>-0.670280</td>\n",
       "      <td>0.670280</td>\n",
       "      <td>2.873893</td>\n",
       "      <td>-1.576173</td>\n",
       "      <td>-0.466933</td>\n",
       "      <td>0.811403</td>\n",
       "      <td>...</td>\n",
       "      <td>-0.259299</td>\n",
       "      <td>-0.327749</td>\n",
       "      <td>1.402626</td>\n",
       "      <td>-0.110208</td>\n",
       "      <td>-0.250398</td>\n",
       "      <td>-0.470108</td>\n",
       "      <td>-0.623610</td>\n",
       "      <td>-0.149983</td>\n",
       "      <td>-0.110208</td>\n",
       "      <td>0</td>\n",
       "    </tr>\n",
       "  </tbody>\n",
       "</table>\n",
       "<p>5 rows × 25 columns</p>\n",
       "</div>"
      ],
      "text/plain": [
       "        Age       Job  Credit amount  Duration  Sex_female  Sex_male  \\\n",
       "0  2.766456  0.146949      -0.745131 -1.236478   -0.670280  0.670280   \n",
       "1 -1.191404  0.146949       0.949817  2.248194    1.491914 -1.491914   \n",
       "2  1.183312 -1.383771      -0.416562 -0.738668   -0.670280  0.670280   \n",
       "3  0.831502  0.146949       1.634247  1.750384   -0.670280  0.670280   \n",
       "4  1.535122  0.146949       0.566664  0.256953   -0.670280  0.670280   \n",
       "\n",
       "   Housing_free  Housing_own  Housing_rent  Saving accounts_little  ...  \\\n",
       "0     -0.347960     0.634448     -0.466933               -1.232433  ...   \n",
       "1     -0.347960     0.634448     -0.466933                0.811403  ...   \n",
       "2     -0.347960     0.634448     -0.466933                0.811403  ...   \n",
       "3      2.873893    -1.576173     -0.466933                0.811403  ...   \n",
       "4      2.873893    -1.576173     -0.466933                0.811403  ...   \n",
       "\n",
       "   Checking account_rich  Purpose_business  Purpose_car  \\\n",
       "0              -0.259299         -0.327749    -0.712949   \n",
       "1              -0.259299         -0.327749    -0.712949   \n",
       "2              -0.259299         -0.327749    -0.712949   \n",
       "3              -0.259299         -0.327749    -0.712949   \n",
       "4              -0.259299         -0.327749     1.402626   \n",
       "\n",
       "   Purpose_domestic appliances  Purpose_education  \\\n",
       "0                    -0.110208          -0.250398   \n",
       "1                    -0.110208          -0.250398   \n",
       "2                    -0.110208           3.993639   \n",
       "3                    -0.110208          -0.250398   \n",
       "4                    -0.110208          -0.250398   \n",
       "\n",
       "   Purpose_furniture/equipment  Purpose_radio/TV  Purpose_repairs  \\\n",
       "0                    -0.470108          1.603567        -0.149983   \n",
       "1                    -0.470108          1.603567        -0.149983   \n",
       "2                    -0.470108         -0.623610        -0.149983   \n",
       "3                     2.127172         -0.623610        -0.149983   \n",
       "4                    -0.470108         -0.623610        -0.149983   \n",
       "\n",
       "   Purpose_vacation/others  Risk  \n",
       "0                -0.110208     1  \n",
       "1                -0.110208     0  \n",
       "2                -0.110208     1  \n",
       "3                -0.110208     1  \n",
       "4                -0.110208     0  \n",
       "\n",
       "[5 rows x 25 columns]"
      ]
     },
     "execution_count": 94,
     "metadata": {},
     "output_type": "execute_result"
    }
   ],
   "source": [
    "X = df_credit.drop(columns='Risk')\n",
    "X = pd.get_dummies(X, dtype='int')\n",
    "y = df_credit['Risk']\n",
    "\n",
    "scaler = StandardScaler()\n",
    "X_scaled = scaler.fit_transform(X)\n",
    "\n",
    "# Convert the result back to a DataFrame (optional)\n",
    "X_scaled = pd.DataFrame(X_scaled, columns=X.columns)\n",
    "\n",
    "df = pd.concat([X_scaled, y], axis=1)\n",
    "# df_train, df_test = train_test_split(df, test_size=0.3, random_state=42, stratify=df['Risk'])\n",
    "# df_train.head()\n",
    "\n",
    "df.head()\n",
    "\n"
   ]
  },
  {
   "cell_type": "code",
   "execution_count": 36,
   "metadata": {},
   "outputs": [
    {
     "name": "stdout",
     "output_type": "stream",
     "text": [
      "cpu\n"
     ]
    }
   ],
   "source": [
    "from kan import *\n",
    "torch.set_default_dtype(torch.float64)\n",
    "\n",
    "device = torch.device('cuda' if torch.cuda.is_available() else 'cpu')\n",
    "print(device)\n",
    "\n",
    "# create a KAN: 2D inputs, 1D output, and 5 hidden neurons. cubic spline (k=3), 5 grid intervals (grid=5).\n",
    "# model = KAN(width=[24, 1], grid=3, k=3, seed=42, device=device)"
   ]
  },
  {
   "cell_type": "code",
   "execution_count": 47,
   "metadata": {},
   "outputs": [],
   "source": [
    "class CreditDataSet(Dataset):\n",
    "    def __init__(self, df):\n",
    "        super().__init__()\n",
    "        # Convert data to a NumPy array and assign to self.data\n",
    "        self.data = df.to_numpy()\n",
    "        \n",
    "    # Implement __len__ to return the number of data samples\n",
    "    def __len__(self):\n",
    "        return self.data.shape[0]\n",
    "    \n",
    "    def __getitem__(self, idx):\n",
    "        features = self.data[idx, :-1]\n",
    "        # Assign last data column to label\n",
    "        label = self.data[idx, -1]\n",
    "        return features, label\n",
    "\n",
    "# Get a batch of features and labels\n",
    "# features, labels = next(iter(dataloader_train))\n",
    "# print(features, labels)"
   ]
  },
  {
   "cell_type": "code",
   "execution_count": 92,
   "metadata": {},
   "outputs": [],
   "source": [
    "class Net(nn.Module):\n",
    "    def __init__(self):\n",
    "        super(Net, self).__init__()\n",
    "        # Define the three linear layers\n",
    "        self.fc1 = nn.Linear(24, 48)\n",
    "        self.fc2 = nn.Linear(48, 48)\n",
    "        self.fc3 = nn.Linear(48, 1)\n",
    "        self.dropout = nn.Dropout(0.1)\n",
    "        \n",
    "    def forward(self, x):\n",
    "        # Pass x through linear layers adding activations\n",
    "        x = nn.functional.relu(self.fc1(x))\n",
    "        x = self.dropout(x)\n",
    "        x = nn.functional.relu(self.fc2(x))\n",
    "        x = self.dropout(x)\n",
    "        x = nn.functional.sigmoid(self.fc3(x))\n",
    "        return x\n",
    "            \n",
    "def train_model(optimizer, net, criterion, num_epochs, dataloader_train):\n",
    "    for epoch in tqdm(range(num_epochs)):\n",
    "        for features, labels in dataloader_train:\n",
    "            optimizer.zero_grad()\n",
    "            outputs = net(features.double())\n",
    "            loss = criterion(outputs, labels.view(-1, 1))\n",
    "            loss.backward()\n",
    "            optimizer.step()\n",
    "\n",
    "def evaluate_accuracy(net, dataloader):\n",
    "    acc = Accuracy('binary').to(torch.device('cpu'))\n",
    "    net.eval()  # Set to evaluation mode\n",
    "    with torch.no_grad():\n",
    "        for features, labels in dataloader:\n",
    "            outputs = net(features.double())\n",
    "            preds = (outputs >= 0.5).float()\n",
    "            acc(preds, labels.view(-1, 1))\n",
    "    return acc.compute().item()\n",
    "    \n"
   ]
  },
  {
   "cell_type": "code",
   "execution_count": 93,
   "metadata": {},
   "outputs": [
    {
     "name": "stdout",
     "output_type": "stream",
     "text": [
      "Fold 1\n"
     ]
    },
    {
     "name": "stderr",
     "output_type": "stream",
     "text": [
      "100%|██████████| 500/500 [00:04<00:00, 108.77it/s]\n"
     ]
    },
    {
     "name": "stdout",
     "output_type": "stream",
     "text": [
      "Learning Rate: 0.1, Train Accuracy: 0.8255555629730225, Test Accuracy: 0.75\n",
      "Fold 2\n"
     ]
    },
    {
     "name": "stderr",
     "output_type": "stream",
     "text": [
      "100%|██████████| 500/500 [00:04<00:00, 112.35it/s]\n"
     ]
    },
    {
     "name": "stdout",
     "output_type": "stream",
     "text": [
      "Learning Rate: 0.1, Train Accuracy: 0.8266666531562805, Test Accuracy: 0.75\n",
      "Fold 3\n"
     ]
    },
    {
     "name": "stderr",
     "output_type": "stream",
     "text": [
      "100%|██████████| 500/500 [00:04<00:00, 109.26it/s]\n"
     ]
    },
    {
     "name": "stdout",
     "output_type": "stream",
     "text": [
      "Learning Rate: 0.1, Train Accuracy: 0.8288888931274414, Test Accuracy: 0.7300000190734863\n",
      "Fold 4\n"
     ]
    },
    {
     "name": "stderr",
     "output_type": "stream",
     "text": [
      "100%|██████████| 500/500 [00:04<00:00, 111.11it/s]\n"
     ]
    },
    {
     "name": "stdout",
     "output_type": "stream",
     "text": [
      "Learning Rate: 0.1, Train Accuracy: 0.8411111235618591, Test Accuracy: 0.7200000286102295\n",
      "Fold 5\n"
     ]
    },
    {
     "name": "stderr",
     "output_type": "stream",
     "text": [
      "100%|██████████| 500/500 [00:04<00:00, 108.33it/s]\n"
     ]
    },
    {
     "name": "stdout",
     "output_type": "stream",
     "text": [
      "Learning Rate: 0.1, Train Accuracy: 0.8377777934074402, Test Accuracy: 0.7400000095367432\n",
      "Fold 6\n"
     ]
    },
    {
     "name": "stderr",
     "output_type": "stream",
     "text": [
      "100%|██████████| 500/500 [00:04<00:00, 111.25it/s]\n"
     ]
    },
    {
     "name": "stdout",
     "output_type": "stream",
     "text": [
      "Learning Rate: 0.1, Train Accuracy: 0.8311111330986023, Test Accuracy: 0.6899999976158142\n",
      "Fold 7\n"
     ]
    },
    {
     "name": "stderr",
     "output_type": "stream",
     "text": [
      "100%|██████████| 500/500 [00:04<00:00, 109.57it/s]\n"
     ]
    },
    {
     "name": "stdout",
     "output_type": "stream",
     "text": [
      "Learning Rate: 0.1, Train Accuracy: 0.8366666436195374, Test Accuracy: 0.6700000166893005\n",
      "Fold 8\n"
     ]
    },
    {
     "name": "stderr",
     "output_type": "stream",
     "text": [
      "100%|██████████| 500/500 [00:04<00:00, 108.08it/s]\n"
     ]
    },
    {
     "name": "stdout",
     "output_type": "stream",
     "text": [
      "Learning Rate: 0.1, Train Accuracy: 0.8333333134651184, Test Accuracy: 0.7400000095367432\n",
      "Fold 9\n"
     ]
    },
    {
     "name": "stderr",
     "output_type": "stream",
     "text": [
      "100%|██████████| 500/500 [00:04<00:00, 110.93it/s]\n"
     ]
    },
    {
     "name": "stdout",
     "output_type": "stream",
     "text": [
      "Learning Rate: 0.1, Train Accuracy: 0.8222222328186035, Test Accuracy: 0.75\n",
      "Fold 10\n"
     ]
    },
    {
     "name": "stderr",
     "output_type": "stream",
     "text": [
      "100%|██████████| 500/500 [00:04<00:00, 108.55it/s]"
     ]
    },
    {
     "name": "stdout",
     "output_type": "stream",
     "text": [
      "Learning Rate: 0.1, Train Accuracy: 0.8411111235618591, Test Accuracy: 0.7099999785423279\n",
      "Average Train Accuracy: 0.832\n",
      "Average Test Accuracy: 0.725\n"
     ]
    },
    {
     "name": "stderr",
     "output_type": "stream",
     "text": [
      "\n"
     ]
    }
   ],
   "source": [
    "from sklearn.model_selection import StratifiedKFold\n",
    "import torch.optim as optim\n",
    "import torch.nn as nn\n",
    "\n",
    "learning_rates = [0.1]\n",
    "accuracy_train = []\n",
    "accuracy_test = []\n",
    "\n",
    "# Set up 10-fold stratified cross-validation\n",
    "skf = StratifiedKFold(n_splits=10, shuffle=True, random_state=42)\n",
    "\n",
    "# Iterate over each fold\n",
    "for fold, (train_index, test_index) in enumerate(skf.split(df, df['Risk'])):\n",
    "    print(f\"Fold {fold + 1}\")\n",
    "\n",
    "    # Split the data into training and testing sets based on the current fold\n",
    "    df_train = df.iloc[train_index]\n",
    "    df_test = df.iloc[test_index]\n",
    "\n",
    "    # Create datasets from the train and test sets\n",
    "    dataset_train = CreditDataSet(df_train)\n",
    "    dataset_test = CreditDataSet(df_test)\n",
    "\n",
    "    # Create DataLoaders for training and testing\n",
    "    dataloader_train = DataLoader(\n",
    "        dataset_train,\n",
    "        batch_size=100,\n",
    "        shuffle=True,\n",
    "    )\n",
    "    dataloader_test = DataLoader(\n",
    "        dataset_test,\n",
    "        batch_size=100,\n",
    "        shuffle=False,\n",
    "    )\n",
    "\n",
    "    # Iterate over the learning rates (although only one in this example)\n",
    "    for lr in learning_rates:\n",
    "        net = Net()  # Re-initialize the network for each fold and learning rate\n",
    "        optimizer = optim.SGD(net.parameters(), lr=lr)\n",
    "        criterion = nn.BCEWithLogitsLoss()  # Binary cross-entropy loss\n",
    "\n",
    "        # Train the model on the current training fold\n",
    "        train_model(\n",
    "            optimizer=optimizer,\n",
    "            net=net,\n",
    "            criterion=criterion,\n",
    "            num_epochs=500,  # Adjust as needed\n",
    "            dataloader_train=dataloader_train,\n",
    "        )\n",
    "\n",
    "        # Evaluate the model on both the training and test sets\n",
    "        accuracy = evaluate_accuracy(net, dataloader_train)\n",
    "        val = evaluate_accuracy(net, dataloader_test)\n",
    "\n",
    "        print(f\"Learning Rate: {lr}, Train Accuracy: {accuracy}, Test Accuracy: {val}\")\n",
    "\n",
    "        # Store the accuracy results\n",
    "        accuracy_train.append(accuracy)\n",
    "        accuracy_test.append(val)\n",
    "\n",
    "# Optionally, summarize results across all folds\n",
    "print(f\"Average Train Accuracy: {sum(accuracy_train) / len(accuracy_train):.3f}\")\n",
    "print(f\"Average Test Accuracy: {sum(accuracy_test) / len(accuracy_test):.3f}\")\n"
   ]
  },
  {
   "cell_type": "code",
   "execution_count": 50,
   "metadata": {},
   "outputs": [
    {
     "name": "stderr",
     "output_type": "stream",
     "text": [
      "100%|██████████| 200/200 [00:07<00:00, 26.13it/s]\n"
     ]
    },
    {
     "name": "stdout",
     "output_type": "stream",
     "text": [
      "Learning Rate: 0.01, Accuracy: 0.7871428728103638, Test: 0.699999988079071\n"
     ]
    },
    {
     "name": "stderr",
     "output_type": "stream",
     "text": [
      "100%|██████████| 200/200 [00:07<00:00, 26.07it/s]\n"
     ]
    },
    {
     "name": "stdout",
     "output_type": "stream",
     "text": [
      "Learning Rate: 0.05, Accuracy: 0.8671428561210632, Test: 0.7133333086967468\n"
     ]
    },
    {
     "name": "stderr",
     "output_type": "stream",
     "text": [
      "100%|██████████| 200/200 [00:07<00:00, 26.26it/s]\n"
     ]
    },
    {
     "name": "stdout",
     "output_type": "stream",
     "text": [
      "Learning Rate: 0.1, Accuracy: 0.8842856884002686, Test: 0.7433333396911621\n"
     ]
    },
    {
     "name": "stderr",
     "output_type": "stream",
     "text": [
      "100%|██████████| 200/200 [00:07<00:00, 26.34it/s]\n"
     ]
    },
    {
     "name": "stdout",
     "output_type": "stream",
     "text": [
      "Learning Rate: 0.15, Accuracy: 0.8714285492897034, Test: 0.70333331823349\n"
     ]
    },
    {
     "name": "stderr",
     "output_type": "stream",
     "text": [
      "100%|██████████| 200/200 [00:07<00:00, 26.64it/s]\n"
     ]
    },
    {
     "name": "stdout",
     "output_type": "stream",
     "text": [
      "Learning Rate: 0.2, Accuracy: 0.8828571438789368, Test: 0.7233333587646484\n"
     ]
    },
    {
     "name": "stderr",
     "output_type": "stream",
     "text": [
      "100%|██████████| 200/200 [00:07<00:00, 26.53it/s]\n"
     ]
    },
    {
     "name": "stdout",
     "output_type": "stream",
     "text": [
      "Learning Rate: 0.25, Accuracy: 0.8728571534156799, Test: 0.7133333086967468\n"
     ]
    },
    {
     "data": {
      "image/png": "[encoded data removed]",
      "text/plain": [
       "<Figure size 1000x600 with 1 Axes>"
      ]
     },
     "metadata": {},
     "output_type": "display_data"
    }
   ],
   "source": [
    "learning_rates = [0.1]\n",
    "accuracy_train = []\n",
    "accuracy_test = []\n",
    "\n",
    "# Perform grid search over learning rates\n",
    "for lr in learning_rates:\n",
    "    net = Net()  # Re-initialize the network for each experiment\n",
    "    optimizer = optim.SGD(net.parameters(), lr=lr)\n",
    "    criterion = nn.BCEWithLogitsLoss()  # Use standard binary cross-entropy\n",
    "\n",
    "    train_model(\n",
    "        optimizer=optimizer,\n",
    "        net=net,\n",
    "        criterion=criterion,\n",
    "        num_epochs=200,  # Use fewer epochs for quick testing\n",
    "        dataloader_train=dataloader_train\n",
    "    )\n",
    "    \n",
    "    # Evaluate accuracy on training data (or use a test/validation set if available)\n",
    "    accuracy = evaluate_accuracy(net, dataloader_train)\n",
    "    val = evaluate_accuracy(net, dataloader_test)\n",
    "\n",
    "    print(f\"Learning Rate: {lr}, Accuracy: {accuracy}, Test: {val}\")\n",
    "\n",
    "    accuracy_train.append(accuracy)\n",
    "    accuracy_test.append(val)\n",
    "\n",
    "# Plot the results\n",
    "plt.figure(figsize=(10, 6))\n",
    "plt.plot(learning_rates, accuracy_train, marker='o', linestyle='--', color='b', label='Accuracy')\n",
    "plt.plot(learning_rates, accuracy_test, marker='o', linestyle='--', color='r', label='Accuracy')\n",
    "\n",
    "plt.xlabel('Learning Rate')\n",
    "plt.ylabel('Accuracy')\n",
    "plt.title('Accuracy vs Learning Rate')\n",
    "plt.legend()\n",
    "plt.grid(True)\n",
    "plt.show()"
   ]
  }
 ],
 "metadata": {
  "kernelspec": {
   "display_name": "Python 3 (ipykernel)",
   "language": "python",
   "name": "python3"
  },
  "language_info": {
   "codemirror_mode": {
    "name": "ipython",
    "version": 3
   },
   "file_extension": ".py",
   "mimetype": "text/x-python",
   "name": "python",
   "nbconvert_exporter": "python",
   "pygments_lexer": "ipython3",
   "version": "3.12.1"
  }
 },
 "nbformat": 4,
 "nbformat_minor": 2
}
