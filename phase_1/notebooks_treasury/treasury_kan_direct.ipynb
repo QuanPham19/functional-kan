{
 "cells": [
  {
   "cell_type": "code",
   "execution_count": 1,
   "metadata": {},
   "outputs": [],
   "source": [
    "import numpy as np\n",
    "import pandas as pd\n",
    "\n",
    "import torch.nn as nn\n",
    "import torch.nn.functional as F\n",
    "import torch.optim as optim\n",
    "from torch.utils.data import Dataset, DataLoader\n",
    "from torchmetrics import Accuracy\n",
    "\n",
    "from sklearn.model_selection import train_test_split, cross_val_score\n",
    "from sklearn.preprocessing import StandardScaler\n",
    "from sklearn.metrics import mean_squared_error \n",
    "\n",
    "from kan import *\n",
    "import warnings\n",
    "import sys\n",
    "sys.path.append('../utils')\n",
    "from treasury_base import *\n",
    "\n",
    "warnings.filterwarnings(\"ignore\")\n",
    "\n",
    "torch.set_default_dtype(torch.float64)\n",
    "device = torch.device('cuda' if torch.cuda.is_available() else 'cpu')\n"
   ]
  },
  {
   "cell_type": "code",
   "execution_count": 2,
   "metadata": {},
   "outputs": [],
   "source": [
    "def direct_pred_retrieval():\n",
    "    data = treasury_data_retrieval('us_treasury_rates_large.csv')\n",
    "    data = data.set_index('Date')\n",
    "    targets = data.columns\n",
    "\n",
    "    # List of moving average windows\n",
    "    window_list = [1, 3, 5]\n",
    "\n",
    "    # List of lags to calculate moving average\n",
    "    lag_list = [1]\n",
    "\n",
    "    # List of future date values\n",
    "    shift_list = [_ for _ in range(20)]\n",
    "\n",
    "    # Generate future columns\n",
    "    for shift in shift_list:\n",
    "        for col in targets:\n",
    "            data[f'{col}_+_{shift}'] = data[col].shift(-shift)\n",
    "\n",
    "    # Generate past moving average columns\n",
    "    for lag in lag_list:\n",
    "        for window in window_list:\n",
    "            for col in targets:\n",
    "                data[f'{col}_-_{lag}_window_{window}'] = data[col].shift(1).rolling(window).mean()\n",
    "    return data, targets\n",
    "\n",
    "def train_mse():\n",
    "    predictions = model(dataset['train_input'])  # Model predictions\n",
    "    mse = F.mse_loss(predictions, dataset['train_label'], reduction='mean')  # Compute MSE\n",
    "    return mse ** 0.5  # Return scalar MSE value\n",
    "\n",
    "def test_mse():\n",
    "    predictions = model(dataset['test_input']) # Model predictions\n",
    "    mse = F.mse_loss(predictions, dataset['test_label'], reduction='mean')  # Compute MSE\n",
    "    return mse ** 0.5"
   ]
  },
  {
   "cell_type": "code",
   "execution_count": 3,
   "metadata": {},
   "outputs": [
    {
     "data": {
      "text/html": [
       "<div>\n",
       "<style scoped>\n",
       "    .dataframe tbody tr th:only-of-type {\n",
       "        vertical-align: middle;\n",
       "    }\n",
       "\n",
       "    .dataframe tbody tr th {\n",
       "        vertical-align: top;\n",
       "    }\n",
       "\n",
       "    .dataframe thead th {\n",
       "        text-align: right;\n",
       "    }\n",
       "</style>\n",
       "<table border=\"1\" class=\"dataframe\">\n",
       "  <thead>\n",
       "    <tr style=\"text-align: right;\">\n",
       "      <th></th>\n",
       "      <th>1 Mo</th>\n",
       "      <th>2 Mo</th>\n",
       "      <th>3 Mo</th>\n",
       "      <th>6 Mo</th>\n",
       "      <th>1 Yr</th>\n",
       "      <th>2 Yr</th>\n",
       "      <th>3 Yr</th>\n",
       "      <th>5 Yr</th>\n",
       "      <th>7 Yr</th>\n",
       "      <th>10 Yr</th>\n",
       "      <th>...</th>\n",
       "      <th>3 Mo_-_1_window_5</th>\n",
       "      <th>6 Mo_-_1_window_5</th>\n",
       "      <th>1 Yr_-_1_window_5</th>\n",
       "      <th>2 Yr_-_1_window_5</th>\n",
       "      <th>3 Yr_-_1_window_5</th>\n",
       "      <th>5 Yr_-_1_window_5</th>\n",
       "      <th>7 Yr_-_1_window_5</th>\n",
       "      <th>10 Yr_-_1_window_5</th>\n",
       "      <th>20 Yr_-_1_window_5</th>\n",
       "      <th>30 Yr_-_1_window_5</th>\n",
       "    </tr>\n",
       "    <tr>\n",
       "      <th>Date</th>\n",
       "      <th></th>\n",
       "      <th></th>\n",
       "      <th></th>\n",
       "      <th></th>\n",
       "      <th></th>\n",
       "      <th></th>\n",
       "      <th></th>\n",
       "      <th></th>\n",
       "      <th></th>\n",
       "      <th></th>\n",
       "      <th></th>\n",
       "      <th></th>\n",
       "      <th></th>\n",
       "      <th></th>\n",
       "      <th></th>\n",
       "      <th></th>\n",
       "      <th></th>\n",
       "      <th></th>\n",
       "      <th></th>\n",
       "      <th></th>\n",
       "      <th></th>\n",
       "    </tr>\n",
       "  </thead>\n",
       "  <tbody>\n",
       "    <tr>\n",
       "      <th>2024-12-02</th>\n",
       "      <td>4.75</td>\n",
       "      <td>4.63</td>\n",
       "      <td>4.51</td>\n",
       "      <td>4.43</td>\n",
       "      <td>4.30</td>\n",
       "      <td>4.17</td>\n",
       "      <td>4.11</td>\n",
       "      <td>4.08</td>\n",
       "      <td>4.13</td>\n",
       "      <td>4.19</td>\n",
       "      <td>...</td>\n",
       "      <td>4.608</td>\n",
       "      <td>4.444</td>\n",
       "      <td>4.360</td>\n",
       "      <td>4.222</td>\n",
       "      <td>4.202</td>\n",
       "      <td>4.160</td>\n",
       "      <td>4.214</td>\n",
       "      <td>4.282</td>\n",
       "      <td>4.546</td>\n",
       "      <td>4.466</td>\n",
       "    </tr>\n",
       "    <tr>\n",
       "      <th>2024-12-03</th>\n",
       "      <td>4.66</td>\n",
       "      <td>4.56</td>\n",
       "      <td>4.49</td>\n",
       "      <td>4.40</td>\n",
       "      <td>4.27</td>\n",
       "      <td>4.17</td>\n",
       "      <td>4.13</td>\n",
       "      <td>4.11</td>\n",
       "      <td>4.17</td>\n",
       "      <td>4.23</td>\n",
       "      <td>...</td>\n",
       "      <td>4.584</td>\n",
       "      <td>4.438</td>\n",
       "      <td>4.336</td>\n",
       "      <td>4.182</td>\n",
       "      <td>4.160</td>\n",
       "      <td>4.116</td>\n",
       "      <td>4.170</td>\n",
       "      <td>4.238</td>\n",
       "      <td>4.504</td>\n",
       "      <td>4.418</td>\n",
       "    </tr>\n",
       "    <tr>\n",
       "      <th>2024-12-04</th>\n",
       "      <td>4.65</td>\n",
       "      <td>4.54</td>\n",
       "      <td>4.47</td>\n",
       "      <td>4.38</td>\n",
       "      <td>4.23</td>\n",
       "      <td>4.13</td>\n",
       "      <td>4.09</td>\n",
       "      <td>4.07</td>\n",
       "      <td>4.13</td>\n",
       "      <td>4.19</td>\n",
       "      <td>...</td>\n",
       "      <td>4.558</td>\n",
       "      <td>4.426</td>\n",
       "      <td>4.316</td>\n",
       "      <td>4.174</td>\n",
       "      <td>4.144</td>\n",
       "      <td>4.104</td>\n",
       "      <td>4.162</td>\n",
       "      <td>4.230</td>\n",
       "      <td>4.498</td>\n",
       "      <td>4.408</td>\n",
       "    </tr>\n",
       "    <tr>\n",
       "      <th>2024-12-05</th>\n",
       "      <td>4.59</td>\n",
       "      <td>4.53</td>\n",
       "      <td>4.46</td>\n",
       "      <td>4.38</td>\n",
       "      <td>4.23</td>\n",
       "      <td>4.15</td>\n",
       "      <td>4.10</td>\n",
       "      <td>4.07</td>\n",
       "      <td>4.12</td>\n",
       "      <td>4.17</td>\n",
       "      <td>...</td>\n",
       "      <td>4.530</td>\n",
       "      <td>4.412</td>\n",
       "      <td>4.288</td>\n",
       "      <td>4.158</td>\n",
       "      <td>4.120</td>\n",
       "      <td>4.084</td>\n",
       "      <td>4.140</td>\n",
       "      <td>4.208</td>\n",
       "      <td>4.476</td>\n",
       "      <td>4.382</td>\n",
       "    </tr>\n",
       "    <tr>\n",
       "      <th>2024-12-06</th>\n",
       "      <td>4.57</td>\n",
       "      <td>4.50</td>\n",
       "      <td>4.42</td>\n",
       "      <td>4.34</td>\n",
       "      <td>4.19</td>\n",
       "      <td>4.10</td>\n",
       "      <td>4.05</td>\n",
       "      <td>4.03</td>\n",
       "      <td>4.09</td>\n",
       "      <td>4.15</td>\n",
       "      <td>...</td>\n",
       "      <td>4.502</td>\n",
       "      <td>4.402</td>\n",
       "      <td>4.266</td>\n",
       "      <td>4.150</td>\n",
       "      <td>4.106</td>\n",
       "      <td>4.076</td>\n",
       "      <td>4.130</td>\n",
       "      <td>4.192</td>\n",
       "      <td>4.458</td>\n",
       "      <td>4.360</td>\n",
       "    </tr>\n",
       "  </tbody>\n",
       "</table>\n",
       "<p>5 rows × 288 columns</p>\n",
       "</div>"
      ],
      "text/plain": [
       "            1 Mo  2 Mo  3 Mo  6 Mo  1 Yr  2 Yr  3 Yr  5 Yr  7 Yr  10 Yr  ...  \\\n",
       "Date                                                                     ...   \n",
       "2024-12-02  4.75  4.63  4.51  4.43  4.30  4.17  4.11  4.08  4.13   4.19  ...   \n",
       "2024-12-03  4.66  4.56  4.49  4.40  4.27  4.17  4.13  4.11  4.17   4.23  ...   \n",
       "2024-12-04  4.65  4.54  4.47  4.38  4.23  4.13  4.09  4.07  4.13   4.19  ...   \n",
       "2024-12-05  4.59  4.53  4.46  4.38  4.23  4.15  4.10  4.07  4.12   4.17  ...   \n",
       "2024-12-06  4.57  4.50  4.42  4.34  4.19  4.10  4.05  4.03  4.09   4.15  ...   \n",
       "\n",
       "            3 Mo_-_1_window_5  6 Mo_-_1_window_5  1 Yr_-_1_window_5  \\\n",
       "Date                                                                  \n",
       "2024-12-02              4.608              4.444              4.360   \n",
       "2024-12-03              4.584              4.438              4.336   \n",
       "2024-12-04              4.558              4.426              4.316   \n",
       "2024-12-05              4.530              4.412              4.288   \n",
       "2024-12-06              4.502              4.402              4.266   \n",
       "\n",
       "            2 Yr_-_1_window_5  3 Yr_-_1_window_5  5 Yr_-_1_window_5  \\\n",
       "Date                                                                  \n",
       "2024-12-02              4.222              4.202              4.160   \n",
       "2024-12-03              4.182              4.160              4.116   \n",
       "2024-12-04              4.174              4.144              4.104   \n",
       "2024-12-05              4.158              4.120              4.084   \n",
       "2024-12-06              4.150              4.106              4.076   \n",
       "\n",
       "            7 Yr_-_1_window_5  10 Yr_-_1_window_5  20 Yr_-_1_window_5  \\\n",
       "Date                                                                    \n",
       "2024-12-02              4.214               4.282               4.546   \n",
       "2024-12-03              4.170               4.238               4.504   \n",
       "2024-12-04              4.162               4.230               4.498   \n",
       "2024-12-05              4.140               4.208               4.476   \n",
       "2024-12-06              4.130               4.192               4.458   \n",
       "\n",
       "            30 Yr_-_1_window_5  \n",
       "Date                            \n",
       "2024-12-02               4.466  \n",
       "2024-12-03               4.418  \n",
       "2024-12-04               4.408  \n",
       "2024-12-05               4.382  \n",
       "2024-12-06               4.360  \n",
       "\n",
       "[5 rows x 288 columns]"
      ]
     },
     "execution_count": 3,
     "metadata": {},
     "output_type": "execute_result"
    }
   ],
   "source": [
    "data, ori_col = direct_pred_retrieval()\n",
    "all_cols = data.columns\n",
    "data.tail()"
   ]
  },
  {
   "cell_type": "code",
   "execution_count": 6,
   "metadata": {},
   "outputs": [
    {
     "name": "stdout",
     "output_type": "stream",
     "text": [
      "LAST DAY OF DATASET: 0, FUTURE STEPS: 1\n",
      "500\n"
     ]
    },
    {
     "name": "stderr",
     "output_type": "stream",
     "text": [
      "description:   0%|                                                          | 0/500 [00:00<?, ?it/s]"
     ]
    },
    {
     "name": "stderr",
     "output_type": "stream",
     "text": [
      "| train_loss: 8.35e-02 | test_loss: 3.40e-01 | reg: 0.00e+00 | : 100%|█| 500/500 [00:15<00:00, 32.92\n"
     ]
    },
    {
     "name": "stdout",
     "output_type": "stream",
     "text": [
      "LAST DAY OF DATASET: 0, FUTURE STEPS: 2\n",
      "499\n"
     ]
    },
    {
     "name": "stderr",
     "output_type": "stream",
     "text": [
      "| train_loss: 1.00e-01 | test_loss: 3.57e-01 | reg: 0.00e+00 | : 100%|█| 500/500 [00:14<00:00, 33.44\n"
     ]
    },
    {
     "name": "stdout",
     "output_type": "stream",
     "text": [
      "LAST DAY OF DATASET: 0, FUTURE STEPS: 3\n",
      "498\n"
     ]
    },
    {
     "name": "stderr",
     "output_type": "stream",
     "text": [
      "| train_loss: 1.13e-01 | test_loss: 3.65e-01 | reg: 0.00e+00 | : 100%|█| 500/500 [00:15<00:00, 33.18\n"
     ]
    },
    {
     "name": "stdout",
     "output_type": "stream",
     "text": [
      "LAST DAY OF DATASET: 0, FUTURE STEPS: 4\n",
      "497\n"
     ]
    },
    {
     "name": "stderr",
     "output_type": "stream",
     "text": [
      "| train_loss: 1.23e-01 | test_loss: 3.62e-01 | reg: 0.00e+00 | : 100%|█| 500/500 [00:14<00:00, 33.39\n"
     ]
    },
    {
     "name": "stdout",
     "output_type": "stream",
     "text": [
      "LAST DAY OF DATASET: 0, FUTURE STEPS: 5\n",
      "496\n"
     ]
    },
    {
     "name": "stderr",
     "output_type": "stream",
     "text": [
      "| train_loss: 1.32e-01 | test_loss: 3.78e-01 | reg: 0.00e+00 | : 100%|█| 500/500 [00:15<00:00, 32.95\n"
     ]
    },
    {
     "name": "stdout",
     "output_type": "stream",
     "text": [
      "LAST DAY OF DATASET: 0, FUTURE STEPS: 6\n",
      "495\n"
     ]
    },
    {
     "name": "stderr",
     "output_type": "stream",
     "text": [
      "| train_loss: 1.39e-01 | test_loss: 3.84e-01 | reg: 0.00e+00 | : 100%|█| 500/500 [00:15<00:00, 32.60\n"
     ]
    },
    {
     "name": "stdout",
     "output_type": "stream",
     "text": [
      "LAST DAY OF DATASET: 0, FUTURE STEPS: 7\n",
      "494\n"
     ]
    },
    {
     "name": "stderr",
     "output_type": "stream",
     "text": [
      "| train_loss: 1.46e-01 | test_loss: 3.90e-01 | reg: 0.00e+00 | : 100%|█| 500/500 [00:15<00:00, 32.94\n"
     ]
    },
    {
     "name": "stdout",
     "output_type": "stream",
     "text": [
      "LAST DAY OF DATASET: 0, FUTURE STEPS: 8\n",
      "493\n"
     ]
    },
    {
     "name": "stderr",
     "output_type": "stream",
     "text": [
      "| train_loss: 1.52e-01 | test_loss: 3.78e-01 | reg: 0.00e+00 | : 100%|█| 500/500 [00:14<00:00, 33.59\n"
     ]
    },
    {
     "name": "stdout",
     "output_type": "stream",
     "text": [
      "LAST DAY OF DATASET: 0, FUTURE STEPS: 9\n",
      "492\n"
     ]
    },
    {
     "name": "stderr",
     "output_type": "stream",
     "text": [
      "| train_loss: 1.57e-01 | test_loss: 3.97e-01 | reg: 0.00e+00 | : 100%|█| 500/500 [00:15<00:00, 33.27\n"
     ]
    },
    {
     "name": "stdout",
     "output_type": "stream",
     "text": [
      "LAST DAY OF DATASET: 0, FUTURE STEPS: 10\n",
      "491\n"
     ]
    },
    {
     "name": "stderr",
     "output_type": "stream",
     "text": [
      "| train_loss: 1.61e-01 | test_loss: 4.38e-01 | reg: 0.00e+00 | : 100%|█| 500/500 [00:14<00:00, 33.34\n"
     ]
    },
    {
     "name": "stdout",
     "output_type": "stream",
     "text": [
      "LAST DAY OF DATASET: 0, FUTURE STEPS: 11\n",
      "490\n"
     ]
    },
    {
     "name": "stderr",
     "output_type": "stream",
     "text": [
      "| train_loss: 1.64e-01 | test_loss: 4.51e-01 | reg: 0.00e+00 | : 100%|█| 500/500 [00:15<00:00, 33.27\n"
     ]
    },
    {
     "name": "stdout",
     "output_type": "stream",
     "text": [
      "LAST DAY OF DATASET: 0, FUTURE STEPS: 12\n",
      "489\n"
     ]
    },
    {
     "name": "stderr",
     "output_type": "stream",
     "text": [
      "| train_loss: 1.66e-01 | test_loss: 4.80e-01 | reg: 0.00e+00 | : 100%|█| 500/500 [00:15<00:00, 32.78\n"
     ]
    },
    {
     "name": "stdout",
     "output_type": "stream",
     "text": [
      "LAST DAY OF DATASET: 0, FUTURE STEPS: 13\n",
      "488\n"
     ]
    },
    {
     "name": "stderr",
     "output_type": "stream",
     "text": [
      "| train_loss: 1.68e-01 | test_loss: 4.94e-01 | reg: 0.00e+00 | : 100%|█| 500/500 [00:14<00:00, 33.65\n"
     ]
    },
    {
     "name": "stdout",
     "output_type": "stream",
     "text": [
      "LAST DAY OF DATASET: 0, FUTURE STEPS: 14\n",
      "487\n"
     ]
    },
    {
     "name": "stderr",
     "output_type": "stream",
     "text": [
      "| train_loss: 1.70e-01 | test_loss: 5.20e-01 | reg: 0.00e+00 | : 100%|█| 500/500 [00:15<00:00, 33.20\n"
     ]
    },
    {
     "name": "stdout",
     "output_type": "stream",
     "text": [
      "LAST DAY OF DATASET: 0, FUTURE STEPS: 15\n",
      "486\n"
     ]
    },
    {
     "name": "stderr",
     "output_type": "stream",
     "text": [
      "| train_loss: 1.71e-01 | test_loss: 5.35e-01 | reg: 0.00e+00 | : 100%|█| 500/500 [00:14<00:00, 33.37\n"
     ]
    },
    {
     "name": "stdout",
     "output_type": "stream",
     "text": [
      "LAST DAY OF DATASET: 0, FUTURE STEPS: 16\n",
      "485\n"
     ]
    },
    {
     "name": "stderr",
     "output_type": "stream",
     "text": [
      "| train_loss: 1.73e-01 | test_loss: 5.44e-01 | reg: 0.00e+00 | : 100%|█| 500/500 [00:14<00:00, 33.72\n"
     ]
    },
    {
     "name": "stdout",
     "output_type": "stream",
     "text": [
      "LAST DAY OF DATASET: 0, FUTURE STEPS: 17\n",
      "484\n"
     ]
    },
    {
     "name": "stderr",
     "output_type": "stream",
     "text": [
      "| train_loss: 1.74e-01 | test_loss: 4.87e-01 | reg: 0.00e+00 | : 100%|█| 500/500 [00:14<00:00, 33.57\n"
     ]
    },
    {
     "name": "stdout",
     "output_type": "stream",
     "text": [
      "LAST DAY OF DATASET: 0, FUTURE STEPS: 18\n",
      "483\n"
     ]
    },
    {
     "name": "stderr",
     "output_type": "stream",
     "text": [
      "| train_loss: 1.76e-01 | test_loss: 5.03e-01 | reg: 0.00e+00 | : 100%|█| 500/500 [00:14<00:00, 33.65\n"
     ]
    },
    {
     "name": "stdout",
     "output_type": "stream",
     "text": [
      "LAST DAY OF DATASET: 0, FUTURE STEPS: 19\n",
      "482\n"
     ]
    },
    {
     "name": "stderr",
     "output_type": "stream",
     "text": [
      "| train_loss: 1.76e-01 | test_loss: 4.77e-01 | reg: 0.00e+00 | : 100%|█| 500/500 [00:14<00:00, 33.75\n"
     ]
    },
    {
     "name": "stdout",
     "output_type": "stream",
     "text": [
      "LAST DAY OF DATASET: 0, FUTURE STEPS: 20\n",
      "481\n"
     ]
    },
    {
     "name": "stderr",
     "output_type": "stream",
     "text": [
      "| train_loss: 1.78e-01 | test_loss: 4.96e-01 | reg: 0.00e+00 | : 100%|█| 500/500 [00:14<00:00, 33.96\n"
     ]
    }
   ],
   "source": [
    "# Out-of-sample test size, diff between sliding element = test size\n",
    "test_size = 20\n",
    "sliding_list = [0]\n",
    "\n",
    "# Set variables for cross-validation\n",
    "truth_df = pd.DataFrame()\n",
    "naive_df = pd.DataFrame()\n",
    "kan_df = pd.DataFrame()\n",
    "\n",
    "# Loop over sliding windows\n",
    "for sliding in sliding_list:\n",
    "    \n",
    "    # Trim original data by sliding window size\n",
    "    df = data[:len(data)-sliding]\n",
    "\n",
    "    # Use 2 years of data (500 days) for training\n",
    "    df_train, df_test = df[-test_size-500:-test_size], df[-test_size:]\n",
    "    len_train = len(df_train)\n",
    "\n",
    "    # Append to truth dataframe\n",
    "    truth_df = pd.concat([truth_df, df_test[ori_col]], axis=0, ignore_index=False)\n",
    "\n",
    "    # Append to naive dataframe\n",
    "    naive_element = pd.DataFrame([df_train[ori_col].iloc[-1].values] * test_size)\n",
    "    naive_df = pd.concat([naive_df, naive_element], axis=0, ignore_index=True)\n",
    "\n",
    "    # Initialize predictions array\n",
    "    pred = list()\n",
    "\n",
    "    for h in range(test_size):\n",
    "\n",
    "        # Print checkpoints\n",
    "        print(f'LAST DAY OF DATASET: {-sliding}, FUTURE STEPS: {h+1}')\n",
    "\n",
    "        # If h = 0 target columns unchanged\n",
    "        if h == 0:  \n",
    "            target_col = ori_col\n",
    "        # If h > 0 target columns modified\n",
    "        else:       \n",
    "            target_col = [f'{element}_+_{h}' for element in ori_col]\n",
    "        \n",
    "        # Extract feature columns\n",
    "        feature_col = [element for element in all_cols if 'window' in element]\n",
    "\n",
    "        # Cut train data due to direct forecast\n",
    "        df_train_modified = df_train[:(len_train-h)]\n",
    "\n",
    "        # Test data is the first row \n",
    "        df_test_modified = df_test.iloc[[0]]\n",
    "        print(len(df_train_modified))\n",
    "\n",
    "        X_train, y_train = df_train_modified[feature_col], df_train_modified[target_col]\n",
    "        X_test, y_test = df_test_modified[feature_col], df_test.iloc[h][ori_col]\n",
    "\n",
    "        n_inputs = X_train.shape[1]\n",
    "        n_outputs = y_train.shape[1]\n",
    "\n",
    "        dataset = dict()\n",
    "        dtype = torch.get_default_dtype()\n",
    "        dataset['train_input'] = torch.from_numpy(X_train.values).type(dtype).to(device)\n",
    "        dataset['train_label'] = torch.from_numpy(y_train.values).type(dtype).to(device)\n",
    "        dataset['test_input'] = torch.from_numpy(X_test.values).type(dtype).to(device)\n",
    "        dataset['test_label'] = torch.from_numpy(y_test.values).type(dtype).to(device)\n",
    "\n",
    "        # Initialize the model\n",
    "        model = KAN(width=[n_inputs, 32, n_outputs], grid=3, k=2, seed=42, device=device, symbolic_enabled=False, save_act=False, auto_save=False)\n",
    "\n",
    "        # Train the model and compute metrics\n",
    "        results = model.fit(dataset, opt=\"Adam\", lr=0.001, steps=500, metrics=(train_mse, test_mse))\n",
    "\n",
    "        # loss_fn = loss_fn_eval = lambda x, y: torch.mean((x - y) ** 2)\n",
    "        # p = \n",
    "        # train_loss = loss_fn(p, dataset['train_label'])\n",
    "        # print(train_loss)\n",
    "        # torch.sqrt(train_loss).cpu().detach().numpy()\n",
    "\n",
    "\n",
    "        pred.append(model.forward(dataset['test_input']).cpu().detach().numpy().flatten())\n",
    "        # print(n_inputs, n_outputs)\n",
    "\n",
    "    kan_element = pd.DataFrame(pred)\n",
    "    kan_df = pd.concat([kan_element, kan_df], axis=0, ignore_index=True)\n",
    "\n",
    "# df_train_modified\n",
    "# df_test_modified\n",
    "# y_train\n",
    "# X_test\n",
    "# model(dataset['test_input'])"
   ]
  },
  {
   "cell_type": "code",
   "execution_count": 7,
   "metadata": {},
   "outputs": [
    {
     "name": "stdout",
     "output_type": "stream",
     "text": [
      "DataFrames have been saved to dfs_20_steps_ahead.pkl\n"
     ]
    }
   ],
   "source": [
    "import pickle\n",
    "\n",
    "\n",
    "dataframes = {\n",
    "    \"naive_df\": naive_df,\n",
    "    \"kan_df\": kan_df,\n",
    "    \"truth_df\": truth_df\n",
    "}\n",
    "\n",
    "# Specify the file name\n",
    "filename = f\"dfs_{test_size}_steps_ahead.pkl\"\n",
    "\n",
    "# Pickle the DataFrames into a file\n",
    "with open(filename, \"wb\") as file:\n",
    "    pickle.dump(dataframes, file)\n",
    "\n",
    "print(f\"DataFrames have been saved to {filename}\")"
   ]
  },
  {
   "cell_type": "code",
   "execution_count": 10,
   "metadata": {},
   "outputs": [
    {
     "data": {
      "text/html": [
       "<div>\n",
       "<style scoped>\n",
       "    .dataframe tbody tr th:only-of-type {\n",
       "        vertical-align: middle;\n",
       "    }\n",
       "\n",
       "    .dataframe tbody tr th {\n",
       "        vertical-align: top;\n",
       "    }\n",
       "\n",
       "    .dataframe thead th {\n",
       "        text-align: right;\n",
       "    }\n",
       "</style>\n",
       "<table border=\"1\" class=\"dataframe\">\n",
       "  <thead>\n",
       "    <tr style=\"text-align: right;\">\n",
       "      <th></th>\n",
       "      <th>0</th>\n",
       "      <th>1</th>\n",
       "      <th>2</th>\n",
       "      <th>3</th>\n",
       "      <th>4</th>\n",
       "      <th>5</th>\n",
       "      <th>6</th>\n",
       "      <th>7</th>\n",
       "      <th>8</th>\n",
       "      <th>9</th>\n",
       "      <th>10</th>\n",
       "      <th>11</th>\n",
       "    </tr>\n",
       "  </thead>\n",
       "  <tbody>\n",
       "    <tr>\n",
       "      <th>0</th>\n",
       "      <td>4.68</td>\n",
       "      <td>4.71</td>\n",
       "      <td>4.64</td>\n",
       "      <td>4.41</td>\n",
       "      <td>4.31</td>\n",
       "      <td>4.27</td>\n",
       "      <td>4.2</td>\n",
       "      <td>4.27</td>\n",
       "      <td>4.37</td>\n",
       "      <td>4.42</td>\n",
       "      <td>4.71</td>\n",
       "      <td>4.6</td>\n",
       "    </tr>\n",
       "    <tr>\n",
       "      <th>1</th>\n",
       "      <td>4.68</td>\n",
       "      <td>4.71</td>\n",
       "      <td>4.64</td>\n",
       "      <td>4.41</td>\n",
       "      <td>4.31</td>\n",
       "      <td>4.27</td>\n",
       "      <td>4.2</td>\n",
       "      <td>4.27</td>\n",
       "      <td>4.37</td>\n",
       "      <td>4.42</td>\n",
       "      <td>4.71</td>\n",
       "      <td>4.6</td>\n",
       "    </tr>\n",
       "    <tr>\n",
       "      <th>2</th>\n",
       "      <td>4.68</td>\n",
       "      <td>4.71</td>\n",
       "      <td>4.64</td>\n",
       "      <td>4.41</td>\n",
       "      <td>4.31</td>\n",
       "      <td>4.27</td>\n",
       "      <td>4.2</td>\n",
       "      <td>4.27</td>\n",
       "      <td>4.37</td>\n",
       "      <td>4.42</td>\n",
       "      <td>4.71</td>\n",
       "      <td>4.6</td>\n",
       "    </tr>\n",
       "    <tr>\n",
       "      <th>3</th>\n",
       "      <td>4.68</td>\n",
       "      <td>4.71</td>\n",
       "      <td>4.64</td>\n",
       "      <td>4.41</td>\n",
       "      <td>4.31</td>\n",
       "      <td>4.27</td>\n",
       "      <td>4.2</td>\n",
       "      <td>4.27</td>\n",
       "      <td>4.37</td>\n",
       "      <td>4.42</td>\n",
       "      <td>4.71</td>\n",
       "      <td>4.6</td>\n",
       "    </tr>\n",
       "    <tr>\n",
       "      <th>4</th>\n",
       "      <td>4.68</td>\n",
       "      <td>4.71</td>\n",
       "      <td>4.64</td>\n",
       "      <td>4.41</td>\n",
       "      <td>4.31</td>\n",
       "      <td>4.27</td>\n",
       "      <td>4.2</td>\n",
       "      <td>4.27</td>\n",
       "      <td>4.37</td>\n",
       "      <td>4.42</td>\n",
       "      <td>4.71</td>\n",
       "      <td>4.6</td>\n",
       "    </tr>\n",
       "    <tr>\n",
       "      <th>5</th>\n",
       "      <td>4.68</td>\n",
       "      <td>4.71</td>\n",
       "      <td>4.64</td>\n",
       "      <td>4.41</td>\n",
       "      <td>4.31</td>\n",
       "      <td>4.27</td>\n",
       "      <td>4.2</td>\n",
       "      <td>4.27</td>\n",
       "      <td>4.37</td>\n",
       "      <td>4.42</td>\n",
       "      <td>4.71</td>\n",
       "      <td>4.6</td>\n",
       "    </tr>\n",
       "    <tr>\n",
       "      <th>6</th>\n",
       "      <td>4.68</td>\n",
       "      <td>4.71</td>\n",
       "      <td>4.64</td>\n",
       "      <td>4.41</td>\n",
       "      <td>4.31</td>\n",
       "      <td>4.27</td>\n",
       "      <td>4.2</td>\n",
       "      <td>4.27</td>\n",
       "      <td>4.37</td>\n",
       "      <td>4.42</td>\n",
       "      <td>4.71</td>\n",
       "      <td>4.6</td>\n",
       "    </tr>\n",
       "    <tr>\n",
       "      <th>7</th>\n",
       "      <td>4.68</td>\n",
       "      <td>4.71</td>\n",
       "      <td>4.64</td>\n",
       "      <td>4.41</td>\n",
       "      <td>4.31</td>\n",
       "      <td>4.27</td>\n",
       "      <td>4.2</td>\n",
       "      <td>4.27</td>\n",
       "      <td>4.37</td>\n",
       "      <td>4.42</td>\n",
       "      <td>4.71</td>\n",
       "      <td>4.6</td>\n",
       "    </tr>\n",
       "    <tr>\n",
       "      <th>8</th>\n",
       "      <td>4.68</td>\n",
       "      <td>4.71</td>\n",
       "      <td>4.64</td>\n",
       "      <td>4.41</td>\n",
       "      <td>4.31</td>\n",
       "      <td>4.27</td>\n",
       "      <td>4.2</td>\n",
       "      <td>4.27</td>\n",
       "      <td>4.37</td>\n",
       "      <td>4.42</td>\n",
       "      <td>4.71</td>\n",
       "      <td>4.6</td>\n",
       "    </tr>\n",
       "    <tr>\n",
       "      <th>9</th>\n",
       "      <td>4.68</td>\n",
       "      <td>4.71</td>\n",
       "      <td>4.64</td>\n",
       "      <td>4.41</td>\n",
       "      <td>4.31</td>\n",
       "      <td>4.27</td>\n",
       "      <td>4.2</td>\n",
       "      <td>4.27</td>\n",
       "      <td>4.37</td>\n",
       "      <td>4.42</td>\n",
       "      <td>4.71</td>\n",
       "      <td>4.6</td>\n",
       "    </tr>\n",
       "    <tr>\n",
       "      <th>10</th>\n",
       "      <td>4.68</td>\n",
       "      <td>4.71</td>\n",
       "      <td>4.64</td>\n",
       "      <td>4.41</td>\n",
       "      <td>4.31</td>\n",
       "      <td>4.27</td>\n",
       "      <td>4.2</td>\n",
       "      <td>4.27</td>\n",
       "      <td>4.37</td>\n",
       "      <td>4.42</td>\n",
       "      <td>4.71</td>\n",
       "      <td>4.6</td>\n",
       "    </tr>\n",
       "    <tr>\n",
       "      <th>11</th>\n",
       "      <td>4.68</td>\n",
       "      <td>4.71</td>\n",
       "      <td>4.64</td>\n",
       "      <td>4.41</td>\n",
       "      <td>4.31</td>\n",
       "      <td>4.27</td>\n",
       "      <td>4.2</td>\n",
       "      <td>4.27</td>\n",
       "      <td>4.37</td>\n",
       "      <td>4.42</td>\n",
       "      <td>4.71</td>\n",
       "      <td>4.6</td>\n",
       "    </tr>\n",
       "    <tr>\n",
       "      <th>12</th>\n",
       "      <td>4.68</td>\n",
       "      <td>4.71</td>\n",
       "      <td>4.64</td>\n",
       "      <td>4.41</td>\n",
       "      <td>4.31</td>\n",
       "      <td>4.27</td>\n",
       "      <td>4.2</td>\n",
       "      <td>4.27</td>\n",
       "      <td>4.37</td>\n",
       "      <td>4.42</td>\n",
       "      <td>4.71</td>\n",
       "      <td>4.6</td>\n",
       "    </tr>\n",
       "    <tr>\n",
       "      <th>13</th>\n",
       "      <td>4.68</td>\n",
       "      <td>4.71</td>\n",
       "      <td>4.64</td>\n",
       "      <td>4.41</td>\n",
       "      <td>4.31</td>\n",
       "      <td>4.27</td>\n",
       "      <td>4.2</td>\n",
       "      <td>4.27</td>\n",
       "      <td>4.37</td>\n",
       "      <td>4.42</td>\n",
       "      <td>4.71</td>\n",
       "      <td>4.6</td>\n",
       "    </tr>\n",
       "    <tr>\n",
       "      <th>14</th>\n",
       "      <td>4.68</td>\n",
       "      <td>4.71</td>\n",
       "      <td>4.64</td>\n",
       "      <td>4.41</td>\n",
       "      <td>4.31</td>\n",
       "      <td>4.27</td>\n",
       "      <td>4.2</td>\n",
       "      <td>4.27</td>\n",
       "      <td>4.37</td>\n",
       "      <td>4.42</td>\n",
       "      <td>4.71</td>\n",
       "      <td>4.6</td>\n",
       "    </tr>\n",
       "    <tr>\n",
       "      <th>15</th>\n",
       "      <td>4.68</td>\n",
       "      <td>4.71</td>\n",
       "      <td>4.64</td>\n",
       "      <td>4.41</td>\n",
       "      <td>4.31</td>\n",
       "      <td>4.27</td>\n",
       "      <td>4.2</td>\n",
       "      <td>4.27</td>\n",
       "      <td>4.37</td>\n",
       "      <td>4.42</td>\n",
       "      <td>4.71</td>\n",
       "      <td>4.6</td>\n",
       "    </tr>\n",
       "    <tr>\n",
       "      <th>16</th>\n",
       "      <td>4.68</td>\n",
       "      <td>4.71</td>\n",
       "      <td>4.64</td>\n",
       "      <td>4.41</td>\n",
       "      <td>4.31</td>\n",
       "      <td>4.27</td>\n",
       "      <td>4.2</td>\n",
       "      <td>4.27</td>\n",
       "      <td>4.37</td>\n",
       "      <td>4.42</td>\n",
       "      <td>4.71</td>\n",
       "      <td>4.6</td>\n",
       "    </tr>\n",
       "    <tr>\n",
       "      <th>17</th>\n",
       "      <td>4.68</td>\n",
       "      <td>4.71</td>\n",
       "      <td>4.64</td>\n",
       "      <td>4.41</td>\n",
       "      <td>4.31</td>\n",
       "      <td>4.27</td>\n",
       "      <td>4.2</td>\n",
       "      <td>4.27</td>\n",
       "      <td>4.37</td>\n",
       "      <td>4.42</td>\n",
       "      <td>4.71</td>\n",
       "      <td>4.6</td>\n",
       "    </tr>\n",
       "    <tr>\n",
       "      <th>18</th>\n",
       "      <td>4.68</td>\n",
       "      <td>4.71</td>\n",
       "      <td>4.64</td>\n",
       "      <td>4.41</td>\n",
       "      <td>4.31</td>\n",
       "      <td>4.27</td>\n",
       "      <td>4.2</td>\n",
       "      <td>4.27</td>\n",
       "      <td>4.37</td>\n",
       "      <td>4.42</td>\n",
       "      <td>4.71</td>\n",
       "      <td>4.6</td>\n",
       "    </tr>\n",
       "    <tr>\n",
       "      <th>19</th>\n",
       "      <td>4.68</td>\n",
       "      <td>4.71</td>\n",
       "      <td>4.64</td>\n",
       "      <td>4.41</td>\n",
       "      <td>4.31</td>\n",
       "      <td>4.27</td>\n",
       "      <td>4.2</td>\n",
       "      <td>4.27</td>\n",
       "      <td>4.37</td>\n",
       "      <td>4.42</td>\n",
       "      <td>4.71</td>\n",
       "      <td>4.6</td>\n",
       "    </tr>\n",
       "  </tbody>\n",
       "</table>\n",
       "</div>"
      ],
      "text/plain": [
       "      0     1     2     3     4     5    6     7     8     9     10   11\n",
       "0   4.68  4.71  4.64  4.41  4.31  4.27  4.2  4.27  4.37  4.42  4.71  4.6\n",
       "1   4.68  4.71  4.64  4.41  4.31  4.27  4.2  4.27  4.37  4.42  4.71  4.6\n",
       "2   4.68  4.71  4.64  4.41  4.31  4.27  4.2  4.27  4.37  4.42  4.71  4.6\n",
       "3   4.68  4.71  4.64  4.41  4.31  4.27  4.2  4.27  4.37  4.42  4.71  4.6\n",
       "4   4.68  4.71  4.64  4.41  4.31  4.27  4.2  4.27  4.37  4.42  4.71  4.6\n",
       "5   4.68  4.71  4.64  4.41  4.31  4.27  4.2  4.27  4.37  4.42  4.71  4.6\n",
       "6   4.68  4.71  4.64  4.41  4.31  4.27  4.2  4.27  4.37  4.42  4.71  4.6\n",
       "7   4.68  4.71  4.64  4.41  4.31  4.27  4.2  4.27  4.37  4.42  4.71  4.6\n",
       "8   4.68  4.71  4.64  4.41  4.31  4.27  4.2  4.27  4.37  4.42  4.71  4.6\n",
       "9   4.68  4.71  4.64  4.41  4.31  4.27  4.2  4.27  4.37  4.42  4.71  4.6\n",
       "10  4.68  4.71  4.64  4.41  4.31  4.27  4.2  4.27  4.37  4.42  4.71  4.6\n",
       "11  4.68  4.71  4.64  4.41  4.31  4.27  4.2  4.27  4.37  4.42  4.71  4.6\n",
       "12  4.68  4.71  4.64  4.41  4.31  4.27  4.2  4.27  4.37  4.42  4.71  4.6\n",
       "13  4.68  4.71  4.64  4.41  4.31  4.27  4.2  4.27  4.37  4.42  4.71  4.6\n",
       "14  4.68  4.71  4.64  4.41  4.31  4.27  4.2  4.27  4.37  4.42  4.71  4.6\n",
       "15  4.68  4.71  4.64  4.41  4.31  4.27  4.2  4.27  4.37  4.42  4.71  4.6\n",
       "16  4.68  4.71  4.64  4.41  4.31  4.27  4.2  4.27  4.37  4.42  4.71  4.6\n",
       "17  4.68  4.71  4.64  4.41  4.31  4.27  4.2  4.27  4.37  4.42  4.71  4.6\n",
       "18  4.68  4.71  4.64  4.41  4.31  4.27  4.2  4.27  4.37  4.42  4.71  4.6\n",
       "19  4.68  4.71  4.64  4.41  4.31  4.27  4.2  4.27  4.37  4.42  4.71  4.6"
      ]
     },
     "execution_count": 10,
     "metadata": {},
     "output_type": "execute_result"
    }
   ],
   "source": [
    "naive_df"
   ]
  },
  {
   "cell_type": "code",
   "execution_count": 66,
   "metadata": {},
   "outputs": [
    {
     "data": {
      "text/plain": [
       "np.float64(0.07110105203070181)"
      ]
     },
     "execution_count": 66,
     "metadata": {},
     "output_type": "execute_result"
    }
   ],
   "source": [
    "real = df_test[ori_col].values\n",
    "mean_squared_error(real, pred, squared=False)"
   ]
  },
  {
   "cell_type": "code",
   "execution_count": 67,
   "metadata": {},
   "outputs": [
    {
     "data": {
      "text/plain": [
       "np.float64(0.05929291173832928)"
      ]
     },
     "execution_count": 67,
     "metadata": {},
     "output_type": "execute_result"
    }
   ],
   "source": [
    "naive = [df_train[ori_col].iloc[-1].values] * test_size\n",
    "mean_squared_error(real, naive, squared=False)"
   ]
  },
  {
   "cell_type": "code",
   "execution_count": 43,
   "metadata": {},
   "outputs": [
    {
     "data": {
      "text/html": [
       "<div>\n",
       "<style scoped>\n",
       "    .dataframe tbody tr th:only-of-type {\n",
       "        vertical-align: middle;\n",
       "    }\n",
       "\n",
       "    .dataframe tbody tr th {\n",
       "        vertical-align: top;\n",
       "    }\n",
       "\n",
       "    .dataframe thead th {\n",
       "        text-align: right;\n",
       "    }\n",
       "</style>\n",
       "<table border=\"1\" class=\"dataframe\">\n",
       "  <thead>\n",
       "    <tr style=\"text-align: right;\">\n",
       "      <th></th>\n",
       "      <th>1 Mo</th>\n",
       "      <th>2 Mo</th>\n",
       "      <th>3 Mo</th>\n",
       "      <th>6 Mo</th>\n",
       "      <th>1 Yr</th>\n",
       "      <th>2 Yr</th>\n",
       "      <th>3 Yr</th>\n",
       "      <th>5 Yr</th>\n",
       "      <th>7 Yr</th>\n",
       "      <th>10 Yr</th>\n",
       "      <th>20 Yr</th>\n",
       "      <th>30 Yr</th>\n",
       "    </tr>\n",
       "    <tr>\n",
       "      <th>Date</th>\n",
       "      <th></th>\n",
       "      <th></th>\n",
       "      <th></th>\n",
       "      <th></th>\n",
       "      <th></th>\n",
       "      <th></th>\n",
       "      <th></th>\n",
       "      <th></th>\n",
       "      <th></th>\n",
       "      <th></th>\n",
       "      <th></th>\n",
       "      <th></th>\n",
       "    </tr>\n",
       "  </thead>\n",
       "  <tbody>\n",
       "    <tr>\n",
       "      <th>2024-11-15</th>\n",
       "      <td>4.70</td>\n",
       "      <td>4.67</td>\n",
       "      <td>4.60</td>\n",
       "      <td>4.44</td>\n",
       "      <td>4.34</td>\n",
       "      <td>4.31</td>\n",
       "      <td>4.27</td>\n",
       "      <td>4.30</td>\n",
       "      <td>4.36</td>\n",
       "      <td>4.43</td>\n",
       "      <td>4.70</td>\n",
       "      <td>4.60</td>\n",
       "    </tr>\n",
       "    <tr>\n",
       "      <th>2024-11-18</th>\n",
       "      <td>4.70</td>\n",
       "      <td>4.65</td>\n",
       "      <td>4.63</td>\n",
       "      <td>4.44</td>\n",
       "      <td>4.33</td>\n",
       "      <td>4.29</td>\n",
       "      <td>4.25</td>\n",
       "      <td>4.28</td>\n",
       "      <td>4.35</td>\n",
       "      <td>4.42</td>\n",
       "      <td>4.70</td>\n",
       "      <td>4.61</td>\n",
       "    </tr>\n",
       "    <tr>\n",
       "      <th>2024-11-19</th>\n",
       "      <td>4.67</td>\n",
       "      <td>4.63</td>\n",
       "      <td>4.62</td>\n",
       "      <td>4.44</td>\n",
       "      <td>4.34</td>\n",
       "      <td>4.27</td>\n",
       "      <td>4.24</td>\n",
       "      <td>4.25</td>\n",
       "      <td>4.32</td>\n",
       "      <td>4.39</td>\n",
       "      <td>4.66</td>\n",
       "      <td>4.57</td>\n",
       "    </tr>\n",
       "    <tr>\n",
       "      <th>2024-11-20</th>\n",
       "      <td>4.68</td>\n",
       "      <td>4.63</td>\n",
       "      <td>4.62</td>\n",
       "      <td>4.44</td>\n",
       "      <td>4.37</td>\n",
       "      <td>4.31</td>\n",
       "      <td>4.26</td>\n",
       "      <td>4.28</td>\n",
       "      <td>4.34</td>\n",
       "      <td>4.41</td>\n",
       "      <td>4.66</td>\n",
       "      <td>4.59</td>\n",
       "    </tr>\n",
       "    <tr>\n",
       "      <th>2024-11-21</th>\n",
       "      <td>4.72</td>\n",
       "      <td>4.67</td>\n",
       "      <td>4.63</td>\n",
       "      <td>4.45</td>\n",
       "      <td>4.39</td>\n",
       "      <td>4.34</td>\n",
       "      <td>4.30</td>\n",
       "      <td>4.30</td>\n",
       "      <td>4.36</td>\n",
       "      <td>4.43</td>\n",
       "      <td>4.68</td>\n",
       "      <td>4.61</td>\n",
       "    </tr>\n",
       "  </tbody>\n",
       "</table>\n",
       "</div>"
      ],
      "text/plain": [
       "            1 Mo  2 Mo  3 Mo  6 Mo  1 Yr  2 Yr  3 Yr  5 Yr  7 Yr  10 Yr  \\\n",
       "Date                                                                      \n",
       "2024-11-15  4.70  4.67  4.60  4.44  4.34  4.31  4.27  4.30  4.36   4.43   \n",
       "2024-11-18  4.70  4.65  4.63  4.44  4.33  4.29  4.25  4.28  4.35   4.42   \n",
       "2024-11-19  4.67  4.63  4.62  4.44  4.34  4.27  4.24  4.25  4.32   4.39   \n",
       "2024-11-20  4.68  4.63  4.62  4.44  4.37  4.31  4.26  4.28  4.34   4.41   \n",
       "2024-11-21  4.72  4.67  4.63  4.45  4.39  4.34  4.30  4.30  4.36   4.43   \n",
       "\n",
       "            20 Yr  30 Yr  \n",
       "Date                      \n",
       "2024-11-15   4.70   4.60  \n",
       "2024-11-18   4.70   4.61  \n",
       "2024-11-19   4.66   4.57  \n",
       "2024-11-20   4.66   4.59  \n",
       "2024-11-21   4.68   4.61  "
      ]
     },
     "execution_count": 43,
     "metadata": {},
     "output_type": "execute_result"
    }
   ],
   "source": [
    "df_test[ori_col]"
   ]
  },
  {
   "cell_type": "code",
   "execution_count": 33,
   "metadata": {},
   "outputs": [
    {
     "data": {
      "text/plain": [
       "[array([4.66407683, 4.6880482 , 4.58706215, 4.49451238, 4.26064394,\n",
       "        4.201187  , 4.10178506, 4.08798675, 4.17354346, 4.25746796,\n",
       "        4.51443222, 4.41495509]),\n",
       " array([4.65792723, 4.68638298, 4.58311401, 4.49485415, 4.25686574,\n",
       "        4.20768825, 4.10373294, 4.08724269, 4.17113352, 4.25754362,\n",
       "        4.50974496, 4.41236799]),\n",
       " array([4.65596465, 4.6844064 , 4.58216824, 4.49543679, 4.25406714,\n",
       "        4.21491783, 4.10799169, 4.0888819 , 4.17270552, 4.26030764,\n",
       "        4.50860762, 4.41186676]),\n",
       " array([4.65393193, 4.68071803, 4.58079666, 4.49318703, 4.24684322,\n",
       "        4.21861217, 4.10869463, 4.0866514 , 4.17227466, 4.26165436,\n",
       "        4.50830992, 4.41167705]),\n",
       " array([4.65191622, 4.67728895, 4.57925671, 4.49220682, 4.24048311,\n",
       "        4.22277714, 4.11229057, 4.08584026, 4.17406209, 4.26400507,\n",
       "        4.51049918, 4.41391378])]"
      ]
     },
     "execution_count": 33,
     "metadata": {},
     "output_type": "execute_result"
    }
   ],
   "source": [
    "pred"
   ]
  },
  {
   "cell_type": "code",
   "execution_count": 35,
   "metadata": {},
   "outputs": [
    {
     "data": {
      "text/plain": [
       "[array([4.76, 4.69, 4.58, 4.42, 4.3 , 4.13, 4.1 , 4.05, 4.1 , 4.18, 4.45,\n",
       "        4.36]),\n",
       " array([4.76, 4.69, 4.58, 4.42, 4.3 , 4.13, 4.1 , 4.05, 4.1 , 4.18, 4.45,\n",
       "        4.36]),\n",
       " array([4.76, 4.69, 4.58, 4.42, 4.3 , 4.13, 4.1 , 4.05, 4.1 , 4.18, 4.45,\n",
       "        4.36]),\n",
       " array([4.76, 4.69, 4.58, 4.42, 4.3 , 4.13, 4.1 , 4.05, 4.1 , 4.18, 4.45,\n",
       "        4.36]),\n",
       " array([4.76, 4.69, 4.58, 4.42, 4.3 , 4.13, 4.1 , 4.05, 4.1 , 4.18, 4.45,\n",
       "        4.36])]"
      ]
     },
     "execution_count": 35,
     "metadata": {},
     "output_type": "execute_result"
    }
   ],
   "source": [
    "naive"
   ]
  },
  {
   "cell_type": "code",
   "execution_count": 44,
   "metadata": {},
   "outputs": [
    {
     "data": {
      "text/plain": [
       "array([[4.7 , 4.67, 4.6 , 4.44, 4.34, 4.31, 4.27, 4.3 , 4.36, 4.43, 4.7 ,\n",
       "        4.6 ],\n",
       "       [4.7 , 4.65, 4.63, 4.44, 4.33, 4.29, 4.25, 4.28, 4.35, 4.42, 4.7 ,\n",
       "        4.61],\n",
       "       [4.67, 4.63, 4.62, 4.44, 4.34, 4.27, 4.24, 4.25, 4.32, 4.39, 4.66,\n",
       "        4.57],\n",
       "       [4.68, 4.63, 4.62, 4.44, 4.37, 4.31, 4.26, 4.28, 4.34, 4.41, 4.66,\n",
       "        4.59],\n",
       "       [4.72, 4.67, 4.63, 4.45, 4.39, 4.34, 4.3 , 4.3 , 4.36, 4.43, 4.68,\n",
       "        4.61]])"
      ]
     },
     "execution_count": 44,
     "metadata": {},
     "output_type": "execute_result"
    }
   ],
   "source": [
    "real"
   ]
  },
  {
   "cell_type": "code",
   "execution_count": null,
   "metadata": {},
   "outputs": [],
   "source": [
    "for h in range(0, 5):\n",
    "    if h == 0:\n",
    "        target_col = ori_col\n",
    "    else:\n",
    "        target_col = [f'{element}_+_{h}' for element in ori_col]\n",
    "    \n",
    "    feature_col = [element for element in all_cols if 'window' in element]\n",
    "\n",
    "    df_train_modified = df_train[:(len_train-h)]\n",
    "    df_test_modified = df_test.iloc[[0]]\n",
    "    print(len(df_train_modified))\n",
    "\n",
    "    X_train, y_train = df_train_modified[feature_col], df_train_modified[target_col]\n",
    "    X_test, y_test = df_test_modified[feature_col], df_test.iloc[h][ori_col]\n",
    "\n",
    "X_test"
   ]
  },
  {
   "cell_type": "code",
   "execution_count": null,
   "metadata": {},
   "outputs": [],
   "source": []
  }
 ],
 "metadata": {
  "kernelspec": {
   "display_name": "Python 3 (ipykernel)",
   "language": "python",
   "name": "python3"
  },
  "language_info": {
   "codemirror_mode": {
    "name": "ipython",
    "version": 3
   },
   "file_extension": ".py",
   "mimetype": "text/x-python",
   "name": "python",
   "nbconvert_exporter": "python",
   "pygments_lexer": "ipython3",
   "version": "3.12.1"
  }
 },
 "nbformat": 4,
 "nbformat_minor": 2
}
