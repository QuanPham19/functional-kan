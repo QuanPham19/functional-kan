{
 "cells": [
  {
   "cell_type": "code",
   "execution_count": 1,
   "metadata": {},
   "outputs": [],
   "source": [
    "import numpy as np\n",
    "import pandas as pd\n",
    "\n",
    "import torch.nn as nn\n",
    "import torch.nn.functional as F\n",
    "import torch.optim as optim\n",
    "from torch.utils.data import Dataset, DataLoader\n",
    "from torchmetrics import Accuracy\n",
    "\n",
    "from sklearn.model_selection import train_test_split, cross_val_score\n",
    "from sklearn.preprocessing import StandardScaler\n",
    "from sklearn.metrics import mean_squared_error \n",
    "\n",
    "from kan import *\n",
    "import warnings\n",
    "import sys\n",
    "sys.path.append('../utils')\n",
    "from treasury_base import *\n",
    "\n",
    "warnings.filterwarnings(\"ignore\")\n",
    "\n",
    "torch.set_default_dtype(torch.float64)\n",
    "device = torch.device('cuda' if torch.cuda.is_available() else 'cpu')\n"
   ]
  },
  {
   "cell_type": "code",
   "execution_count": 257,
   "metadata": {},
   "outputs": [],
   "source": [
    "def direct_pred_retrieval():\n",
    "    data = treasury_data_retrieval('us_treasury_rates_large.csv')\n",
    "    data = data.set_index('Date')\n",
    "    targets = data.columns\n",
    "    window_list = [1, 5]\n",
    "    lag_list = [1]\n",
    "    shift_list = [_ for _ in range(20)]\n",
    "\n",
    "    for shift in shift_list:\n",
    "        for col in targets:\n",
    "            data[f'{col}_+_{shift}'] = data[col].shift(-shift)\n",
    "\n",
    "    for lag in lag_list:\n",
    "        for window in window_list:\n",
    "            for col in targets:\n",
    "                data[f'{col}_-_{lag}_window_{window}'] = data[col].shift(1).rolling(window).mean()\n",
    "    return data, targets\n",
    "\n",
    "def train_mse():\n",
    "    predictions = model(dataset['train_input'])  # Model predictions\n",
    "    mse = F.mse_loss(predictions, dataset['train_label'], reduction='mean')  # Compute MSE\n",
    "    return mse ** 0.5  # Return scalar MSE value\n",
    "\n",
    "def test_mse():\n",
    "    predictions = model(dataset['test_input']) # Model predictions\n",
    "    mse = F.mse_loss(predictions, dataset['test_label'], reduction='mean')  # Compute MSE\n",
    "    return mse ** 0.5"
   ]
  },
  {
   "cell_type": "code",
   "execution_count": 258,
   "metadata": {},
   "outputs": [
    {
     "data": {
      "text/html": [
       "<div>\n",
       "<style scoped>\n",
       "    .dataframe tbody tr th:only-of-type {\n",
       "        vertical-align: middle;\n",
       "    }\n",
       "\n",
       "    .dataframe tbody tr th {\n",
       "        vertical-align: top;\n",
       "    }\n",
       "\n",
       "    .dataframe thead th {\n",
       "        text-align: right;\n",
       "    }\n",
       "</style>\n",
       "<table border=\"1\" class=\"dataframe\">\n",
       "  <thead>\n",
       "    <tr style=\"text-align: right;\">\n",
       "      <th></th>\n",
       "      <th>1 Mo</th>\n",
       "      <th>2 Mo</th>\n",
       "      <th>3 Mo</th>\n",
       "      <th>6 Mo</th>\n",
       "      <th>1 Yr</th>\n",
       "      <th>2 Yr</th>\n",
       "      <th>3 Yr</th>\n",
       "      <th>5 Yr</th>\n",
       "      <th>7 Yr</th>\n",
       "      <th>10 Yr</th>\n",
       "      <th>...</th>\n",
       "      <th>3 Mo_-_1_window_5</th>\n",
       "      <th>6 Mo_-_1_window_5</th>\n",
       "      <th>1 Yr_-_1_window_5</th>\n",
       "      <th>2 Yr_-_1_window_5</th>\n",
       "      <th>3 Yr_-_1_window_5</th>\n",
       "      <th>5 Yr_-_1_window_5</th>\n",
       "      <th>7 Yr_-_1_window_5</th>\n",
       "      <th>10 Yr_-_1_window_5</th>\n",
       "      <th>20 Yr_-_1_window_5</th>\n",
       "      <th>30 Yr_-_1_window_5</th>\n",
       "    </tr>\n",
       "    <tr>\n",
       "      <th>Date</th>\n",
       "      <th></th>\n",
       "      <th></th>\n",
       "      <th></th>\n",
       "      <th></th>\n",
       "      <th></th>\n",
       "      <th></th>\n",
       "      <th></th>\n",
       "      <th></th>\n",
       "      <th></th>\n",
       "      <th></th>\n",
       "      <th></th>\n",
       "      <th></th>\n",
       "      <th></th>\n",
       "      <th></th>\n",
       "      <th></th>\n",
       "      <th></th>\n",
       "      <th></th>\n",
       "      <th></th>\n",
       "      <th></th>\n",
       "      <th></th>\n",
       "      <th></th>\n",
       "    </tr>\n",
       "  </thead>\n",
       "  <tbody>\n",
       "    <tr>\n",
       "      <th>2024-12-02</th>\n",
       "      <td>4.75</td>\n",
       "      <td>4.63</td>\n",
       "      <td>4.51</td>\n",
       "      <td>4.43</td>\n",
       "      <td>4.30</td>\n",
       "      <td>4.17</td>\n",
       "      <td>4.11</td>\n",
       "      <td>4.08</td>\n",
       "      <td>4.13</td>\n",
       "      <td>4.19</td>\n",
       "      <td>...</td>\n",
       "      <td>4.608</td>\n",
       "      <td>4.444</td>\n",
       "      <td>4.360</td>\n",
       "      <td>4.222</td>\n",
       "      <td>4.202</td>\n",
       "      <td>4.160</td>\n",
       "      <td>4.214</td>\n",
       "      <td>4.282</td>\n",
       "      <td>4.546</td>\n",
       "      <td>4.466</td>\n",
       "    </tr>\n",
       "    <tr>\n",
       "      <th>2024-12-03</th>\n",
       "      <td>4.66</td>\n",
       "      <td>4.56</td>\n",
       "      <td>4.49</td>\n",
       "      <td>4.40</td>\n",
       "      <td>4.27</td>\n",
       "      <td>4.17</td>\n",
       "      <td>4.13</td>\n",
       "      <td>4.11</td>\n",
       "      <td>4.17</td>\n",
       "      <td>4.23</td>\n",
       "      <td>...</td>\n",
       "      <td>4.584</td>\n",
       "      <td>4.438</td>\n",
       "      <td>4.336</td>\n",
       "      <td>4.182</td>\n",
       "      <td>4.160</td>\n",
       "      <td>4.116</td>\n",
       "      <td>4.170</td>\n",
       "      <td>4.238</td>\n",
       "      <td>4.504</td>\n",
       "      <td>4.418</td>\n",
       "    </tr>\n",
       "    <tr>\n",
       "      <th>2024-12-04</th>\n",
       "      <td>4.65</td>\n",
       "      <td>4.54</td>\n",
       "      <td>4.47</td>\n",
       "      <td>4.38</td>\n",
       "      <td>4.23</td>\n",
       "      <td>4.13</td>\n",
       "      <td>4.09</td>\n",
       "      <td>4.07</td>\n",
       "      <td>4.13</td>\n",
       "      <td>4.19</td>\n",
       "      <td>...</td>\n",
       "      <td>4.558</td>\n",
       "      <td>4.426</td>\n",
       "      <td>4.316</td>\n",
       "      <td>4.174</td>\n",
       "      <td>4.144</td>\n",
       "      <td>4.104</td>\n",
       "      <td>4.162</td>\n",
       "      <td>4.230</td>\n",
       "      <td>4.498</td>\n",
       "      <td>4.408</td>\n",
       "    </tr>\n",
       "    <tr>\n",
       "      <th>2024-12-05</th>\n",
       "      <td>4.59</td>\n",
       "      <td>4.53</td>\n",
       "      <td>4.46</td>\n",
       "      <td>4.38</td>\n",
       "      <td>4.23</td>\n",
       "      <td>4.15</td>\n",
       "      <td>4.10</td>\n",
       "      <td>4.07</td>\n",
       "      <td>4.12</td>\n",
       "      <td>4.17</td>\n",
       "      <td>...</td>\n",
       "      <td>4.530</td>\n",
       "      <td>4.412</td>\n",
       "      <td>4.288</td>\n",
       "      <td>4.158</td>\n",
       "      <td>4.120</td>\n",
       "      <td>4.084</td>\n",
       "      <td>4.140</td>\n",
       "      <td>4.208</td>\n",
       "      <td>4.476</td>\n",
       "      <td>4.382</td>\n",
       "    </tr>\n",
       "    <tr>\n",
       "      <th>2024-12-06</th>\n",
       "      <td>4.57</td>\n",
       "      <td>4.50</td>\n",
       "      <td>4.42</td>\n",
       "      <td>4.34</td>\n",
       "      <td>4.19</td>\n",
       "      <td>4.10</td>\n",
       "      <td>4.05</td>\n",
       "      <td>4.03</td>\n",
       "      <td>4.09</td>\n",
       "      <td>4.15</td>\n",
       "      <td>...</td>\n",
       "      <td>4.502</td>\n",
       "      <td>4.402</td>\n",
       "      <td>4.266</td>\n",
       "      <td>4.150</td>\n",
       "      <td>4.106</td>\n",
       "      <td>4.076</td>\n",
       "      <td>4.130</td>\n",
       "      <td>4.192</td>\n",
       "      <td>4.458</td>\n",
       "      <td>4.360</td>\n",
       "    </tr>\n",
       "  </tbody>\n",
       "</table>\n",
       "<p>5 rows × 276 columns</p>\n",
       "</div>"
      ],
      "text/plain": [
       "            1 Mo  2 Mo  3 Mo  6 Mo  1 Yr  2 Yr  3 Yr  5 Yr  7 Yr  10 Yr  ...  \\\n",
       "Date                                                                     ...   \n",
       "2024-12-02  4.75  4.63  4.51  4.43  4.30  4.17  4.11  4.08  4.13   4.19  ...   \n",
       "2024-12-03  4.66  4.56  4.49  4.40  4.27  4.17  4.13  4.11  4.17   4.23  ...   \n",
       "2024-12-04  4.65  4.54  4.47  4.38  4.23  4.13  4.09  4.07  4.13   4.19  ...   \n",
       "2024-12-05  4.59  4.53  4.46  4.38  4.23  4.15  4.10  4.07  4.12   4.17  ...   \n",
       "2024-12-06  4.57  4.50  4.42  4.34  4.19  4.10  4.05  4.03  4.09   4.15  ...   \n",
       "\n",
       "            3 Mo_-_1_window_5  6 Mo_-_1_window_5  1 Yr_-_1_window_5  \\\n",
       "Date                                                                  \n",
       "2024-12-02              4.608              4.444              4.360   \n",
       "2024-12-03              4.584              4.438              4.336   \n",
       "2024-12-04              4.558              4.426              4.316   \n",
       "2024-12-05              4.530              4.412              4.288   \n",
       "2024-12-06              4.502              4.402              4.266   \n",
       "\n",
       "            2 Yr_-_1_window_5  3 Yr_-_1_window_5  5 Yr_-_1_window_5  \\\n",
       "Date                                                                  \n",
       "2024-12-02              4.222              4.202              4.160   \n",
       "2024-12-03              4.182              4.160              4.116   \n",
       "2024-12-04              4.174              4.144              4.104   \n",
       "2024-12-05              4.158              4.120              4.084   \n",
       "2024-12-06              4.150              4.106              4.076   \n",
       "\n",
       "            7 Yr_-_1_window_5  10 Yr_-_1_window_5  20 Yr_-_1_window_5  \\\n",
       "Date                                                                    \n",
       "2024-12-02              4.214               4.282               4.546   \n",
       "2024-12-03              4.170               4.238               4.504   \n",
       "2024-12-04              4.162               4.230               4.498   \n",
       "2024-12-05              4.140               4.208               4.476   \n",
       "2024-12-06              4.130               4.192               4.458   \n",
       "\n",
       "            30 Yr_-_1_window_5  \n",
       "Date                            \n",
       "2024-12-02               4.466  \n",
       "2024-12-03               4.418  \n",
       "2024-12-04               4.408  \n",
       "2024-12-05               4.382  \n",
       "2024-12-06               4.360  \n",
       "\n",
       "[5 rows x 276 columns]"
      ]
     },
     "execution_count": 258,
     "metadata": {},
     "output_type": "execute_result"
    }
   ],
   "source": [
    "data, ori_col = direct_pred_retrieval()\n",
    "all_cols = data.columns\n",
    "data.tail()"
   ]
  },
  {
   "cell_type": "code",
   "execution_count": 272,
   "metadata": {},
   "outputs": [
    {
     "name": "stdout",
     "output_type": "stream",
     "text": [
      "500\n",
      "checkpoint directory created: ./model\n",
      "saving model version 0.0\n"
     ]
    },
    {
     "name": "stderr",
     "output_type": "stream",
     "text": [
      "description:   0%|                                                          | 0/500 [00:00<?, ?it/s]"
     ]
    },
    {
     "name": "stderr",
     "output_type": "stream",
     "text": [
      "| train_loss: 8.25e-02 | test_loss: 4.31e-01 | reg: 2.30e+02 | : 100%|█| 500/500 [01:56<00:00,  4.28\n"
     ]
    },
    {
     "name": "stdout",
     "output_type": "stream",
     "text": [
      "saving model version 0.1\n",
      "499\n",
      "checkpoint directory created: ./model\n",
      "saving model version 0.0\n"
     ]
    },
    {
     "name": "stderr",
     "output_type": "stream",
     "text": [
      "| train_loss: 9.76e-02 | test_loss: 3.55e-01 | reg: 2.30e+02 | : 100%|█| 500/500 [01:56<00:00,  4.28\n"
     ]
    },
    {
     "name": "stdout",
     "output_type": "stream",
     "text": [
      "saving model version 0.1\n",
      "498\n",
      "checkpoint directory created: ./model\n",
      "saving model version 0.0\n"
     ]
    },
    {
     "name": "stderr",
     "output_type": "stream",
     "text": [
      "| train_loss: 1.08e-01 | test_loss: 3.44e-01 | reg: 2.29e+02 | : 100%|█| 500/500 [01:55<00:00,  4.31\n"
     ]
    },
    {
     "name": "stdout",
     "output_type": "stream",
     "text": [
      "saving model version 0.1\n",
      "497\n",
      "checkpoint directory created: ./model\n",
      "saving model version 0.0\n"
     ]
    },
    {
     "name": "stderr",
     "output_type": "stream",
     "text": [
      "| train_loss: 1.18e-01 | test_loss: 3.00e-01 | reg: 2.28e+02 | : 100%|█| 500/500 [01:53<00:00,  4.40\n"
     ]
    },
    {
     "name": "stdout",
     "output_type": "stream",
     "text": [
      "saving model version 0.1\n",
      "496\n",
      "checkpoint directory created: ./model\n",
      "saving model version 0.0\n"
     ]
    },
    {
     "name": "stderr",
     "output_type": "stream",
     "text": [
      "| train_loss: 1.26e-01 | test_loss: 2.86e-01 | reg: 2.27e+02 | : 100%|█| 500/500 [01:54<00:00,  4.37\n"
     ]
    },
    {
     "name": "stdout",
     "output_type": "stream",
     "text": [
      "saving model version 0.1\n"
     ]
    }
   ],
   "source": [
    "test_size = 5\n",
    "df_train, df_test = data[-test_size-500:-test_size], data[-test_size:]\n",
    "len_train = len(df_train)\n",
    "pred = list()\n",
    "\n",
    "for h in range(0, 5):\n",
    "    if h == 0:\n",
    "        target_col = ori_col\n",
    "    else:\n",
    "        target_col = [f'{element}_+_{h}' for element in ori_col]\n",
    "    \n",
    "    feature_col = [element for element in all_cols if 'window' in element]\n",
    "\n",
    "    df_train_modified = df_train[:(len_train-h)]\n",
    "    df_test_modified = df_test.iloc[[0]]\n",
    "    print(len(df_train_modified))\n",
    "\n",
    "    X_train, y_train = df_train_modified[feature_col], df_train_modified[target_col]\n",
    "    X_test, y_test = df_test_modified[feature_col], df_test.iloc[h][ori_col]\n",
    "\n",
    "    n_inputs = X_train.shape[1]\n",
    "    n_outputs = y_train.shape[1]\n",
    "\n",
    "    dataset = dict()\n",
    "    dtype = torch.get_default_dtype()\n",
    "    dataset['train_input'] = torch.from_numpy(X_train.values).type(dtype).to(device)\n",
    "    dataset['train_label'] = torch.from_numpy(y_train.values).type(dtype).to(device)\n",
    "    dataset['test_input'] = torch.from_numpy(X_test.values).type(dtype).to(device)\n",
    "    dataset['test_label'] = torch.from_numpy(y_test.values).type(dtype).to(device)\n",
    "\n",
    "    # Initialize the model\n",
    "    model = KAN(width=[n_inputs, 48, 64, n_outputs], grid=3, k=2, seed=42, device=device)\n",
    "\n",
    "    # Train the model and compute metrics\n",
    "    results = model.fit(dataset, opt=\"Adam\", lamb=0.0001, lr=0.001, steps=500, metrics=(train_mse, test_mse))\n",
    "\n",
    "    # loss_fn = loss_fn_eval = lambda x, y: torch.mean((x - y) ** 2)\n",
    "    # p = \n",
    "    # train_loss = loss_fn(p, dataset['train_label'])\n",
    "    # print(train_loss)\n",
    "    # torch.sqrt(train_loss).cpu().detach().numpy()\n",
    "\n",
    "\n",
    "    pred.append(model.forward(dataset['test_input']).cpu().detach().numpy().flatten())\n",
    "    # print(n_inputs, n_outputs)\n",
    "\n",
    "# df_train_modified\n",
    "# df_test_modified\n",
    "# y_train\n",
    "# X_test\n",
    "# model(dataset['test_input'])"
   ]
  },
  {
   "cell_type": "code",
   "execution_count": 275,
   "metadata": {},
   "outputs": [
    {
     "data": {
      "text/plain": [
       "np.float64(0.07875325190440506)"
      ]
     },
     "execution_count": 275,
     "metadata": {},
     "output_type": "execute_result"
    }
   ],
   "source": [
    "real = df_test[ori_col].values\n",
    "mean_squared_error(real, pred, squared=False)"
   ]
  },
  {
   "cell_type": "code",
   "execution_count": 276,
   "metadata": {},
   "outputs": [
    {
     "data": {
      "text/plain": [
       "np.float64(0.05929291173832928)"
      ]
     },
     "execution_count": 276,
     "metadata": {},
     "output_type": "execute_result"
    }
   ],
   "source": [
    "naive = [df_train[ori_col].iloc[-1].values] * test_size\n",
    "mean_squared_error(real, naive, squared=False)"
   ]
  },
  {
   "cell_type": "code",
   "execution_count": 273,
   "metadata": {},
   "outputs": [
    {
     "data": {
      "text/plain": [
       "[array([4.69544278, 4.71069144, 4.67840542, 4.51235291, 4.30980869,\n",
       "        4.19021114, 4.14172282, 4.09998143, 4.14696275, 4.20673658,\n",
       "        4.48985022, 4.38152552]),\n",
       " array([4.69531768, 4.71269998, 4.66939001, 4.50844905, 4.30441138,\n",
       "        4.19299315, 4.14387141, 4.10690895, 4.14840096, 4.20959317,\n",
       "        4.49030159, 4.38511455]),\n",
       " array([4.69487669, 4.71299156, 4.66394307, 4.51053315, 4.30360925,\n",
       "        4.19762096, 4.15576811, 4.11671228, 4.1499071 , 4.20787191,\n",
       "        4.48908837, 4.38155671]),\n",
       " array([4.68672729, 4.71107045, 4.63740661, 4.51232615, 4.31126324,\n",
       "        4.19620497, 4.14887123, 4.12820848, 4.15349686, 4.19909076,\n",
       "        4.48681011, 4.36382418]),\n",
       " array([4.6900663 , 4.71190968, 4.63567314, 4.51088291, 4.31465183,\n",
       "        4.19764621, 4.1508259 , 4.13174239, 4.14905532, 4.19600166,\n",
       "        4.48861687, 4.36397623])]"
      ]
     },
     "execution_count": 273,
     "metadata": {},
     "output_type": "execute_result"
    }
   ],
   "source": [
    "pred"
   ]
  },
  {
   "cell_type": "code",
   "execution_count": 277,
   "metadata": {},
   "outputs": [
    {
     "data": {
      "text/plain": [
       "array([[4.75, 4.63, 4.51, 4.43, 4.3 , 4.17, 4.11, 4.08, 4.13, 4.19, 4.46,\n",
       "        4.36],\n",
       "       [4.66, 4.56, 4.49, 4.4 , 4.27, 4.17, 4.13, 4.11, 4.17, 4.23, 4.5 ,\n",
       "        4.4 ],\n",
       "       [4.65, 4.54, 4.47, 4.38, 4.23, 4.13, 4.09, 4.07, 4.13, 4.19, 4.45,\n",
       "        4.35],\n",
       "       [4.59, 4.53, 4.46, 4.38, 4.23, 4.15, 4.1 , 4.07, 4.12, 4.17, 4.43,\n",
       "        4.33],\n",
       "       [4.57, 4.5 , 4.42, 4.34, 4.19, 4.1 , 4.05, 4.03, 4.09, 4.15, 4.42,\n",
       "        4.34]])"
      ]
     },
     "execution_count": 277,
     "metadata": {},
     "output_type": "execute_result"
    }
   ],
   "source": [
    "real"
   ]
  },
  {
   "cell_type": "code",
   "execution_count": 278,
   "metadata": {},
   "outputs": [
    {
     "data": {
      "text/plain": [
       "[array([4.76, 4.69, 4.58, 4.42, 4.3 , 4.13, 4.1 , 4.05, 4.1 , 4.18, 4.45,\n",
       "        4.36]),\n",
       " array([4.76, 4.69, 4.58, 4.42, 4.3 , 4.13, 4.1 , 4.05, 4.1 , 4.18, 4.45,\n",
       "        4.36]),\n",
       " array([4.76, 4.69, 4.58, 4.42, 4.3 , 4.13, 4.1 , 4.05, 4.1 , 4.18, 4.45,\n",
       "        4.36]),\n",
       " array([4.76, 4.69, 4.58, 4.42, 4.3 , 4.13, 4.1 , 4.05, 4.1 , 4.18, 4.45,\n",
       "        4.36]),\n",
       " array([4.76, 4.69, 4.58, 4.42, 4.3 , 4.13, 4.1 , 4.05, 4.1 , 4.18, 4.45,\n",
       "        4.36])]"
      ]
     },
     "execution_count": 278,
     "metadata": {},
     "output_type": "execute_result"
    }
   ],
   "source": [
    "naive"
   ]
  },
  {
   "cell_type": "code",
   "execution_count": null,
   "metadata": {},
   "outputs": [],
   "source": [
    "for h in range(0, 5):\n",
    "    if h == 0:\n",
    "        target_col = ori_col\n",
    "    else:\n",
    "        target_col = [f'{element}_+_{h}' for element in ori_col]\n",
    "    \n",
    "    feature_col = [element for element in all_cols if 'window' in element]\n",
    "\n",
    "    df_train_modified = df_train[:(len_train-h)]\n",
    "    df_test_modified = df_test.iloc[[0]]\n",
    "    print(len(df_train_modified))\n",
    "\n",
    "    X_train, y_train = df_train_modified[feature_col], df_train_modified[target_col]\n",
    "    X_test, y_test = df_test_modified[feature_col], df_test.iloc[h][ori_col]\n",
    "\n",
    "X_test"
   ]
  },
  {
   "cell_type": "code",
   "execution_count": null,
   "metadata": {},
   "outputs": [],
   "source": []
  }
 ],
 "metadata": {
  "kernelspec": {
   "display_name": "Python 3 (ipykernel)",
   "language": "python",
   "name": "python3"
  },
  "language_info": {
   "codemirror_mode": {
    "name": "ipython",
    "version": 3
   },
   "file_extension": ".py",
   "mimetype": "text/x-python",
   "name": "python",
   "nbconvert_exporter": "python",
   "pygments_lexer": "ipython3",
   "version": "3.12.1"
  }
 },
 "nbformat": 4,
 "nbformat_minor": 2
}
