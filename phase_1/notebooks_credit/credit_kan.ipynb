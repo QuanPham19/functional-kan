{
 "cells": [
  {
   "cell_type": "code",
   "execution_count": 1,
   "metadata": {},
   "outputs": [
    {
     "name": "stdout",
     "output_type": "stream",
     "text": [
      "cpu\n"
     ]
    }
   ],
   "source": [
    "#@title 1.3. IMPORT LIBRARY\n",
    "\n",
    "import sys\n",
    "sys.path.append('../utils')\n",
    "from data_retrieval import credit_data_retrieval\n",
    "from neural_net import *\n",
    "\n",
    "import numpy as np\n",
    "import pandas as pd\n",
    "import matplotlib.pyplot as plt\n",
    "\n",
    "from tqdm import tqdm\n",
    "from sklearn.model_selection import train_test_split, cross_val_score, KFold, StratifiedKFold\n",
    "from sklearn.preprocessing import StandardScaler\n",
    "\n",
    "from sklearn.linear_model import LogisticRegression\n",
    "from sklearn.naive_bayes import GaussianNB\n",
    "from sklearn.tree import DecisionTreeClassifier\n",
    "from sklearn.neural_network import MLPClassifier\n",
    "from sklearn.ensemble import RandomForestClassifier\n",
    "\n",
    "import torch.nn as nn\n",
    "import torch.nn.functional as F\n",
    "import torch.optim as optim\n",
    "from torch.utils.data import Dataset, DataLoader\n",
    "from torchmetrics import Accuracy\n",
    "\n",
    "from kan import *\n",
    "torch.set_default_dtype(torch.float64)\n",
    "\n",
    "device = torch.device('cuda' if torch.cuda.is_available() else 'cpu')\n",
    "print(device)\n"
   ]
  },
  {
   "cell_type": "code",
   "execution_count": 2,
   "metadata": {},
   "outputs": [
    {
     "data": {
      "text/html": [
       "<div>\n",
       "<style scoped>\n",
       "    .dataframe tbody tr th:only-of-type {\n",
       "        vertical-align: middle;\n",
       "    }\n",
       "\n",
       "    .dataframe tbody tr th {\n",
       "        vertical-align: top;\n",
       "    }\n",
       "\n",
       "    .dataframe thead th {\n",
       "        text-align: right;\n",
       "    }\n",
       "</style>\n",
       "<table border=\"1\" class=\"dataframe\">\n",
       "  <thead>\n",
       "    <tr style=\"text-align: right;\">\n",
       "      <th></th>\n",
       "      <th>0</th>\n",
       "      <th>1</th>\n",
       "      <th>2</th>\n",
       "      <th>3</th>\n",
       "      <th>4</th>\n",
       "      <th>5</th>\n",
       "      <th>6</th>\n",
       "      <th>7</th>\n",
       "      <th>8</th>\n",
       "      <th>9</th>\n",
       "      <th>...</th>\n",
       "      <th>21</th>\n",
       "      <th>22</th>\n",
       "      <th>23</th>\n",
       "      <th>24</th>\n",
       "      <th>25</th>\n",
       "      <th>26</th>\n",
       "      <th>27</th>\n",
       "      <th>28</th>\n",
       "      <th>29</th>\n",
       "      <th>Risk</th>\n",
       "    </tr>\n",
       "  </thead>\n",
       "  <tbody>\n",
       "    <tr>\n",
       "      <th>0</th>\n",
       "      <td>0.146949</td>\n",
       "      <td>-0.745131</td>\n",
       "      <td>-1.236478</td>\n",
       "      <td>0.176948</td>\n",
       "      <td>0.0</td>\n",
       "      <td>0.0</td>\n",
       "      <td>0.0</td>\n",
       "      <td>1.0</td>\n",
       "      <td>0.0</td>\n",
       "      <td>1.0</td>\n",
       "      <td>...</td>\n",
       "      <td>0.0</td>\n",
       "      <td>0.0</td>\n",
       "      <td>0.0</td>\n",
       "      <td>0.0</td>\n",
       "      <td>0.0</td>\n",
       "      <td>0.0</td>\n",
       "      <td>1.0</td>\n",
       "      <td>0.0</td>\n",
       "      <td>0.0</td>\n",
       "      <td>1</td>\n",
       "    </tr>\n",
       "    <tr>\n",
       "      <th>1</th>\n",
       "      <td>0.146949</td>\n",
       "      <td>0.949817</td>\n",
       "      <td>2.248194</td>\n",
       "      <td>-0.284901</td>\n",
       "      <td>1.0</td>\n",
       "      <td>0.0</td>\n",
       "      <td>0.0</td>\n",
       "      <td>0.0</td>\n",
       "      <td>1.0</td>\n",
       "      <td>0.0</td>\n",
       "      <td>...</td>\n",
       "      <td>0.0</td>\n",
       "      <td>0.0</td>\n",
       "      <td>0.0</td>\n",
       "      <td>0.0</td>\n",
       "      <td>0.0</td>\n",
       "      <td>0.0</td>\n",
       "      <td>1.0</td>\n",
       "      <td>0.0</td>\n",
       "      <td>0.0</td>\n",
       "      <td>0</td>\n",
       "    </tr>\n",
       "    <tr>\n",
       "      <th>2</th>\n",
       "      <td>-1.383771</td>\n",
       "      <td>-0.416562</td>\n",
       "      <td>-0.738668</td>\n",
       "      <td>0.045495</td>\n",
       "      <td>0.0</td>\n",
       "      <td>0.0</td>\n",
       "      <td>1.0</td>\n",
       "      <td>0.0</td>\n",
       "      <td>0.0</td>\n",
       "      <td>1.0</td>\n",
       "      <td>...</td>\n",
       "      <td>1.0</td>\n",
       "      <td>0.0</td>\n",
       "      <td>0.0</td>\n",
       "      <td>0.0</td>\n",
       "      <td>1.0</td>\n",
       "      <td>0.0</td>\n",
       "      <td>0.0</td>\n",
       "      <td>0.0</td>\n",
       "      <td>0.0</td>\n",
       "      <td>1</td>\n",
       "    </tr>\n",
       "    <tr>\n",
       "      <th>3</th>\n",
       "      <td>0.146949</td>\n",
       "      <td>1.634247</td>\n",
       "      <td>1.750384</td>\n",
       "      <td>0.130233</td>\n",
       "      <td>0.0</td>\n",
       "      <td>0.0</td>\n",
       "      <td>1.0</td>\n",
       "      <td>0.0</td>\n",
       "      <td>0.0</td>\n",
       "      <td>1.0</td>\n",
       "      <td>...</td>\n",
       "      <td>0.0</td>\n",
       "      <td>0.0</td>\n",
       "      <td>0.0</td>\n",
       "      <td>0.0</td>\n",
       "      <td>0.0</td>\n",
       "      <td>1.0</td>\n",
       "      <td>0.0</td>\n",
       "      <td>0.0</td>\n",
       "      <td>0.0</td>\n",
       "      <td>1</td>\n",
       "    </tr>\n",
       "    <tr>\n",
       "      <th>4</th>\n",
       "      <td>0.146949</td>\n",
       "      <td>0.566664</td>\n",
       "      <td>0.256953</td>\n",
       "      <td>0.229637</td>\n",
       "      <td>0.0</td>\n",
       "      <td>0.0</td>\n",
       "      <td>0.0</td>\n",
       "      <td>1.0</td>\n",
       "      <td>0.0</td>\n",
       "      <td>1.0</td>\n",
       "      <td>...</td>\n",
       "      <td>0.0</td>\n",
       "      <td>0.0</td>\n",
       "      <td>1.0</td>\n",
       "      <td>0.0</td>\n",
       "      <td>0.0</td>\n",
       "      <td>0.0</td>\n",
       "      <td>0.0</td>\n",
       "      <td>0.0</td>\n",
       "      <td>0.0</td>\n",
       "      <td>0</td>\n",
       "    </tr>\n",
       "  </tbody>\n",
       "</table>\n",
       "<p>5 rows × 31 columns</p>\n",
       "</div>"
      ],
      "text/plain": [
       "          0         1         2         3    4    5    6    7    8    9  ...  \\\n",
       "0  0.146949 -0.745131 -1.236478  0.176948  0.0  0.0  0.0  1.0  0.0  1.0  ...   \n",
       "1  0.146949  0.949817  2.248194 -0.284901  1.0  0.0  0.0  0.0  1.0  0.0  ...   \n",
       "2 -1.383771 -0.416562 -0.738668  0.045495  0.0  0.0  1.0  0.0  0.0  1.0  ...   \n",
       "3  0.146949  1.634247  1.750384  0.130233  0.0  0.0  1.0  0.0  0.0  1.0  ...   \n",
       "4  0.146949  0.566664  0.256953  0.229637  0.0  0.0  0.0  1.0  0.0  1.0  ...   \n",
       "\n",
       "    21   22   23   24   25   26   27   28   29  Risk  \n",
       "0  0.0  0.0  0.0  0.0  0.0  0.0  1.0  0.0  0.0     1  \n",
       "1  0.0  0.0  0.0  0.0  0.0  0.0  1.0  0.0  0.0     0  \n",
       "2  1.0  0.0  0.0  0.0  1.0  0.0  0.0  0.0  0.0     1  \n",
       "3  0.0  0.0  0.0  0.0  0.0  1.0  0.0  0.0  0.0     1  \n",
       "4  0.0  0.0  1.0  0.0  0.0  0.0  0.0  0.0  0.0     0  \n",
       "\n",
       "[5 rows x 31 columns]"
      ]
     },
     "execution_count": 2,
     "metadata": {},
     "output_type": "execute_result"
    }
   ],
   "source": [
    "df = credit_data_retrieval()\n",
    "df.head()"
   ]
  },
  {
   "cell_type": "code",
   "execution_count": null,
   "metadata": {},
   "outputs": [],
   "source": [
    "def train_acc():\n",
    "    return torch.mean((torch.argmax(model(dataset['train_input']), dim=1) == dataset['train_label']).type(dtype))\n",
    "\n",
    "def test_acc():\n",
    "    return torch.mean((torch.argmax(model(dataset['test_input']), dim=1) == dataset['test_label']).type(dtype))\n",
    "\n",
    "class FocalLoss(nn.Module):\n",
    "    def __init__(self, alpha=1, gamma=2):\n",
    "        super(FocalLoss, self).__init__()\n",
    "        self.alpha = alpha\n",
    "        self.gamma = gamma\n",
    "\n",
    "    def forward(self, logits, targets):\n",
    "        probs = torch.softmax(logits, dim=1)  # Convert logits to probabilities\n",
    "        probs_class_1 = probs[:, 1]  # Focus on class 1\n",
    "        targets = targets.double()\n",
    "        bce_loss = nn.BCELoss(reduction='none')(probs_class_1, targets)\n",
    "        pt = torch.where(targets == 1, probs_class_1, 1 - probs_class_1)\n",
    "        focal_loss = self.alpha * (1 - pt) ** self.gamma * bce_loss\n",
    "        return focal_loss.mean()\n",
    "\n",
    "criterion = FocalLoss(alpha=0.25, gamma=2)\n"
   ]
  },
  {
   "cell_type": "code",
   "execution_count": 24,
   "metadata": {},
   "outputs": [
    {
     "name": "stdout",
     "output_type": "stream",
     "text": [
      "Fold 1/5\n",
      "checkpoint directory created: ./model\n",
      "saving model version 0.0\n"
     ]
    },
    {
     "name": "stderr",
     "output_type": "stream",
     "text": [
      "description:   0%|                                                          | 0/500 [00:00<?, ?it/s]"
     ]
    },
    {
     "name": "stderr",
     "output_type": "stream",
     "text": [
      "| train_loss: 6.73e-01 | test_loss: 7.08e-01 | reg: 2.35e+01 | : 100%|█| 500/500 [00:17<00:00, 29.33\n"
     ]
    },
    {
     "name": "stdout",
     "output_type": "stream",
     "text": [
      "saving model version 0.1\n",
      "Fold accuracy: (0.79875, 0.755)\n",
      "Fold 2/5\n",
      "checkpoint directory created: ./model\n",
      "saving model version 0.0\n"
     ]
    },
    {
     "name": "stderr",
     "output_type": "stream",
     "text": [
      "| train_loss: 6.50e-01 | test_loss: 7.41e-01 | reg: 2.79e+01 | : 100%|█| 500/500 [00:17<00:00, 29.10\n"
     ]
    },
    {
     "name": "stdout",
     "output_type": "stream",
     "text": [
      "saving model version 0.1\n",
      "Fold accuracy: (0.81375, 0.78)\n",
      "Fold 3/5\n",
      "checkpoint directory created: ./model\n",
      "saving model version 0.0\n"
     ]
    },
    {
     "name": "stderr",
     "output_type": "stream",
     "text": [
      "| train_loss: 6.40e-01 | test_loss: 7.52e-01 | reg: 2.87e+01 | : 100%|█| 500/500 [00:17<00:00, 28.95\n"
     ]
    },
    {
     "name": "stdout",
     "output_type": "stream",
     "text": [
      "saving model version 0.1\n",
      "Fold accuracy: (0.81875, 0.735)\n",
      "Fold 4/5\n",
      "checkpoint directory created: ./model\n",
      "saving model version 0.0\n"
     ]
    },
    {
     "name": "stderr",
     "output_type": "stream",
     "text": [
      "| train_loss: 6.64e-01 | test_loss: 6.99e-01 | reg: 2.40e+01 | : 100%|█| 500/500 [00:17<00:00, 29.19\n"
     ]
    },
    {
     "name": "stdout",
     "output_type": "stream",
     "text": [
      "saving model version 0.1\n",
      "Fold accuracy: (0.80375, 0.76)\n",
      "Fold 5/5\n",
      "checkpoint directory created: ./model\n",
      "saving model version 0.0\n"
     ]
    },
    {
     "name": "stderr",
     "output_type": "stream",
     "text": [
      "| train_loss: 6.60e-01 | test_loss: 7.24e-01 | reg: 2.54e+01 | : 100%|█| 500/500 [00:17<00:00, 29.13\n"
     ]
    },
    {
     "name": "stdout",
     "output_type": "stream",
     "text": [
      "saving model version 0.1\n",
      "Fold accuracy: (0.80125, 0.77)\n",
      "Average Train Accuracy: 0.8073\n",
      "Average Test Accuracy: 0.7600\n"
     ]
    }
   ],
   "source": [
    "skf = StratifiedKFold(n_splits=5, shuffle=True, random_state=42)\n",
    "n = df.shape[1] - 1\n",
    "\n",
    "train_accuracies = []\n",
    "test_accuracies = []\n",
    "\n",
    "# Perform 5-fold stratified cross-validation\n",
    "for fold, (train_idx, test_idx) in enumerate(skf.split(df, df['Risk'])):\n",
    "    print(f\"Fold {fold+1}/{5}\")\n",
    "    \n",
    "    # Split the data for this fold\n",
    "    df_train, df_test = df.iloc[train_idx], df.iloc[test_idx]\n",
    "    X_train, y_train = df_train.drop(columns='Risk'), df_train['Risk']\n",
    "    X_test, y_test = df_test.drop(columns='Risk'), df_test['Risk']\n",
    "    \n",
    "    # Prepare the dataset\n",
    "    dataset = dict()\n",
    "    dtype = torch.get_default_dtype()\n",
    "    dataset['train_input'] = torch.from_numpy(X_train.values).type(dtype).to(device)\n",
    "    dataset['train_label'] = torch.from_numpy(y_train.values).type(torch.long).to(device)\n",
    "    dataset['test_input'] = torch.from_numpy(X_test.values).type(dtype).to(device)\n",
    "    dataset['test_label'] = torch.from_numpy(y_test.values).type(torch.long).to(device)\n",
    "\n",
    "    # Initialize model\n",
    "    model = KAN(width=[n, 6, 2], grid=3, k=2, seed=42, device=device)\n",
    "\n",
    "    # Train the model and evaluate it\n",
    "    results = model.fit(dataset, opt=\"Adam\", steps=500, lr=0.001, lamb=0.001, metrics=(train_acc, test_acc), loss_fn=torch.nn.CrossEntropyLoss())\n",
    "\n",
    "    print(f'Fold accuracy: {results['train_acc'][-1], results['test_acc'][-1]}')\n",
    "    \n",
    "    train_accuracies.append(results['train_acc'][-1])\n",
    "    test_accuracies.append(results['test_acc'][-1])\n",
    "\n",
    "# Output the average accuracies\n",
    "print(f\"Average Train Accuracy: {torch.mean(torch.tensor(train_accuracies)):.4f}\")\n",
    "print(f\"Average Test Accuracy: {torch.mean(torch.tensor(test_accuracies)):.4f}\")"
   ]
  },
  {
   "cell_type": "code",
   "execution_count": 7,
   "metadata": {},
   "outputs": [
    {
     "data": {
      "image/png": "[encoded data removed]",
      "text/plain": [
       "<Figure size 500x400 with 123 Axes>"
      ]
     },
     "metadata": {},
     "output_type": "display_data"
    }
   ],
   "source": [
    "model.plot()"
   ]
  },
  {
   "cell_type": "code",
   "execution_count": 35,
   "metadata": {},
   "outputs": [
    {
     "name": "stdout",
     "output_type": "stream",
     "text": [
      "Help on method fit in module kan.MultKAN:\n",
      "\n",
      "fit(dataset, opt='LBFGS', steps=100, log=1, lamb=0.0, lamb_l1=1.0, lamb_entropy=2.0, lamb_coef=0.0, lamb_coefdiff=0.0, update_grid=True, grid_update_num=10, loss_fn=None, lr=1.0, start_grid_update_step=-1, stop_grid_update_step=50, batch=-1, metrics=None, save_fig=False, in_vars=None, out_vars=None, beta=3, save_fig_freq=1, img_folder='./video', singularity_avoiding=False, y_th=1000.0, reg_metric='edge_forward_spline_n', display_metrics=None) method of kan.MultKAN.MultKAN instance\n",
      "    training\n",
      "\n",
      "    Args:\n",
      "    -----\n",
      "        dataset : dic\n",
      "            contains dataset['train_input'], dataset['train_label'], dataset['test_input'], dataset['test_label']\n",
      "        opt : str\n",
      "            \"LBFGS\" or \"Adam\"\n",
      "        steps : int\n",
      "            training steps\n",
      "        log : int\n",
      "            logging frequency\n",
      "        lamb : float\n",
      "            overall penalty strength\n",
      "        lamb_l1 : float\n",
      "            l1 penalty strength\n",
      "        lamb_entropy : float\n",
      "            entropy penalty strength\n",
      "        lamb_coef : float\n",
      "            coefficient magnitude penalty strength\n",
      "        lamb_coefdiff : float\n",
      "            difference of nearby coefficits (smoothness) penalty strength\n",
      "        update_grid : bool\n",
      "            If True, update grid regularly before stop_grid_update_step\n",
      "        grid_update_num : int\n",
      "            the number of grid updates before stop_grid_update_step\n",
      "        start_grid_update_step : int\n",
      "            no grid updates before this training step\n",
      "        stop_grid_update_step : int\n",
      "            no grid updates after this training step\n",
      "        loss_fn : function\n",
      "            loss function\n",
      "        lr : float\n",
      "            learning rate\n",
      "        batch : int\n",
      "            batch size, if -1 then full.\n",
      "        save_fig_freq : int\n",
      "            save figure every (save_fig_freq) steps\n",
      "        singularity_avoiding : bool\n",
      "            indicate whether to avoid singularity for the symbolic part\n",
      "        y_th : float\n",
      "            singularity threshold (anything above the threshold is considered singular and is softened in some ways)\n",
      "        reg_metric : str\n",
      "            regularization metric. Choose from {'edge_forward_spline_n', 'edge_forward_spline_u', 'edge_forward_sum', 'edge_backward', 'node_backward'}\n",
      "        metrics : a list of metrics (as functions)\n",
      "            the metrics to be computed in training\n",
      "        display_metrics : a list of functions\n",
      "            the metric to be displayed in tqdm progress bar\n",
      "\n",
      "    Returns:\n",
      "    --------\n",
      "        results : dic\n",
      "            results['train_loss'], 1D array of training losses (RMSE)\n",
      "            results['test_loss'], 1D array of test losses (RMSE)\n",
      "            results['reg'], 1D array of regularization\n",
      "            other metrics specified in metrics\n",
      "\n",
      "    Example\n",
      "    -------\n",
      "    >>> from kan import *\n",
      "    >>> model = KAN(width=[2,5,1], grid=5, k=3, noise_scale=0.3, seed=2)\n",
      "    >>> f = lambda x: torch.exp(torch.sin(torch.pi*x[:,[0]]) + x[:,[1]]**2)\n",
      "    >>> dataset = create_dataset(f, n_var=2)\n",
      "    >>> model.fit(dataset, opt='LBFGS', steps=20, lamb=0.001);\n",
      "    >>> model.plot()\n",
      "    # Most examples in toturals involve the fit() method. Please check them for useness.\n",
      "\n"
     ]
    }
   ],
   "source": [
    "help(model.fit)"
   ]
  },
  {
   "cell_type": "code",
   "execution_count": null,
   "metadata": {},
   "outputs": [],
   "source": []
  }
 ],
 "metadata": {
  "kernelspec": {
   "display_name": "Python 3 (ipykernel)",
   "language": "python",
   "name": "python3"
  },
  "language_info": {
   "codemirror_mode": {
    "name": "ipython",
    "version": 3
   },
   "file_extension": ".py",
   "mimetype": "text/x-python",
   "name": "python",
   "nbconvert_exporter": "python",
   "pygments_lexer": "ipython3",
   "version": "3.12.1"
  }
 },
 "nbformat": 4,
 "nbformat_minor": 2
}
