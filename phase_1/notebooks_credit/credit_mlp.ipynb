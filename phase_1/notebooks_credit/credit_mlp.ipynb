{
 "cells": [
  {
   "cell_type": "code",
   "execution_count": null,
   "metadata": {},
   "outputs": [],
   "source": [
    "!pip install pykan"
   ]
  },
  {
   "cell_type": "code",
   "execution_count": 1,
   "metadata": {},
   "outputs": [],
   "source": [
    "#@title 1.3. IMPORT LIBRARY\n",
    "import numpy as np\n",
    "import pandas as pd\n",
    "import matplotlib.pyplot as plt\n",
    "\n",
    "from tqdm import tqdm\n",
    "from sklearn.model_selection import train_test_split, cross_val_score\n",
    "from sklearn.preprocessing import StandardScaler\n",
    "\n",
    "from sklearn.linear_model import LogisticRegression\n",
    "from sklearn.naive_bayes import GaussianNB\n",
    "from sklearn.tree import DecisionTreeClassifier\n",
    "from sklearn.neural_network import MLPClassifier\n",
    "from sklearn.ensemble import RandomForestClassifier\n",
    "\n",
    "import torch\n",
    "import torch.nn as nn\n",
    "import torch.nn.functional as F\n",
    "import torch.optim as optim\n",
    "from torch.utils.data import Dataset, DataLoader\n",
    "from torchmetrics import Accuracy"
   ]
  },
  {
   "cell_type": "code",
   "execution_count": 2,
   "metadata": {},
   "outputs": [],
   "source": [
    "import sys\n",
    "sys.path.append('../utils')\n",
    "from data_retrieval import credit_data_retrieval\n",
    "from neural_net import *"
   ]
  },
  {
   "cell_type": "code",
   "execution_count": 3,
   "metadata": {},
   "outputs": [
    {
     "data": {
      "text/html": [
       "<div>\n",
       "<style scoped>\n",
       "    .dataframe tbody tr th:only-of-type {\n",
       "        vertical-align: middle;\n",
       "    }\n",
       "\n",
       "    .dataframe tbody tr th {\n",
       "        vertical-align: top;\n",
       "    }\n",
       "\n",
       "    .dataframe thead th {\n",
       "        text-align: right;\n",
       "    }\n",
       "</style>\n",
       "<table border=\"1\" class=\"dataframe\">\n",
       "  <thead>\n",
       "    <tr style=\"text-align: right;\">\n",
       "      <th></th>\n",
       "      <th>0</th>\n",
       "      <th>1</th>\n",
       "      <th>2</th>\n",
       "      <th>3</th>\n",
       "      <th>4</th>\n",
       "      <th>5</th>\n",
       "      <th>6</th>\n",
       "      <th>7</th>\n",
       "      <th>8</th>\n",
       "      <th>9</th>\n",
       "      <th>...</th>\n",
       "      <th>20</th>\n",
       "      <th>21</th>\n",
       "      <th>22</th>\n",
       "      <th>23</th>\n",
       "      <th>24</th>\n",
       "      <th>25</th>\n",
       "      <th>26</th>\n",
       "      <th>27</th>\n",
       "      <th>28</th>\n",
       "      <th>Risk</th>\n",
       "    </tr>\n",
       "  </thead>\n",
       "  <tbody>\n",
       "    <tr>\n",
       "      <th>0</th>\n",
       "      <td>0.146949</td>\n",
       "      <td>-0.745131</td>\n",
       "      <td>-1.236478</td>\n",
       "      <td>0.176948</td>\n",
       "      <td>0.0</td>\n",
       "      <td>0.0</td>\n",
       "      <td>1.0</td>\n",
       "      <td>0.0</td>\n",
       "      <td>1.0</td>\n",
       "      <td>0.0</td>\n",
       "      <td>...</td>\n",
       "      <td>0.0</td>\n",
       "      <td>0.0</td>\n",
       "      <td>0.0</td>\n",
       "      <td>0.0</td>\n",
       "      <td>0.0</td>\n",
       "      <td>0.0</td>\n",
       "      <td>1.0</td>\n",
       "      <td>0.0</td>\n",
       "      <td>0.0</td>\n",
       "      <td>1</td>\n",
       "    </tr>\n",
       "    <tr>\n",
       "      <th>1</th>\n",
       "      <td>0.146949</td>\n",
       "      <td>0.949817</td>\n",
       "      <td>2.248194</td>\n",
       "      <td>-0.284901</td>\n",
       "      <td>1.0</td>\n",
       "      <td>0.0</td>\n",
       "      <td>0.0</td>\n",
       "      <td>1.0</td>\n",
       "      <td>0.0</td>\n",
       "      <td>0.0</td>\n",
       "      <td>...</td>\n",
       "      <td>0.0</td>\n",
       "      <td>0.0</td>\n",
       "      <td>0.0</td>\n",
       "      <td>0.0</td>\n",
       "      <td>0.0</td>\n",
       "      <td>0.0</td>\n",
       "      <td>1.0</td>\n",
       "      <td>0.0</td>\n",
       "      <td>0.0</td>\n",
       "      <td>0</td>\n",
       "    </tr>\n",
       "    <tr>\n",
       "      <th>2</th>\n",
       "      <td>-1.383771</td>\n",
       "      <td>-0.416562</td>\n",
       "      <td>-0.738668</td>\n",
       "      <td>0.045495</td>\n",
       "      <td>0.0</td>\n",
       "      <td>1.0</td>\n",
       "      <td>0.0</td>\n",
       "      <td>0.0</td>\n",
       "      <td>1.0</td>\n",
       "      <td>0.0</td>\n",
       "      <td>...</td>\n",
       "      <td>1.0</td>\n",
       "      <td>0.0</td>\n",
       "      <td>0.0</td>\n",
       "      <td>0.0</td>\n",
       "      <td>1.0</td>\n",
       "      <td>0.0</td>\n",
       "      <td>0.0</td>\n",
       "      <td>0.0</td>\n",
       "      <td>0.0</td>\n",
       "      <td>1</td>\n",
       "    </tr>\n",
       "    <tr>\n",
       "      <th>3</th>\n",
       "      <td>0.146949</td>\n",
       "      <td>1.634247</td>\n",
       "      <td>1.750384</td>\n",
       "      <td>0.130233</td>\n",
       "      <td>0.0</td>\n",
       "      <td>1.0</td>\n",
       "      <td>0.0</td>\n",
       "      <td>0.0</td>\n",
       "      <td>1.0</td>\n",
       "      <td>1.0</td>\n",
       "      <td>...</td>\n",
       "      <td>0.0</td>\n",
       "      <td>0.0</td>\n",
       "      <td>0.0</td>\n",
       "      <td>0.0</td>\n",
       "      <td>0.0</td>\n",
       "      <td>1.0</td>\n",
       "      <td>0.0</td>\n",
       "      <td>0.0</td>\n",
       "      <td>0.0</td>\n",
       "      <td>1</td>\n",
       "    </tr>\n",
       "    <tr>\n",
       "      <th>4</th>\n",
       "      <td>0.146949</td>\n",
       "      <td>0.566664</td>\n",
       "      <td>0.256953</td>\n",
       "      <td>0.229637</td>\n",
       "      <td>0.0</td>\n",
       "      <td>0.0</td>\n",
       "      <td>1.0</td>\n",
       "      <td>0.0</td>\n",
       "      <td>1.0</td>\n",
       "      <td>1.0</td>\n",
       "      <td>...</td>\n",
       "      <td>0.0</td>\n",
       "      <td>0.0</td>\n",
       "      <td>1.0</td>\n",
       "      <td>0.0</td>\n",
       "      <td>0.0</td>\n",
       "      <td>0.0</td>\n",
       "      <td>0.0</td>\n",
       "      <td>0.0</td>\n",
       "      <td>0.0</td>\n",
       "      <td>0</td>\n",
       "    </tr>\n",
       "  </tbody>\n",
       "</table>\n",
       "<p>5 rows × 30 columns</p>\n",
       "</div>"
      ],
      "text/plain": [
       "          0         1         2         3    4    5    6    7    8    9  ...  \\\n",
       "0  0.146949 -0.745131 -1.236478  0.176948  0.0  0.0  1.0  0.0  1.0  0.0  ...   \n",
       "1  0.146949  0.949817  2.248194 -0.284901  1.0  0.0  0.0  1.0  0.0  0.0  ...   \n",
       "2 -1.383771 -0.416562 -0.738668  0.045495  0.0  1.0  0.0  0.0  1.0  0.0  ...   \n",
       "3  0.146949  1.634247  1.750384  0.130233  0.0  1.0  0.0  0.0  1.0  1.0  ...   \n",
       "4  0.146949  0.566664  0.256953  0.229637  0.0  0.0  1.0  0.0  1.0  1.0  ...   \n",
       "\n",
       "    20   21   22   23   24   25   26   27   28  Risk  \n",
       "0  0.0  0.0  0.0  0.0  0.0  0.0  1.0  0.0  0.0     1  \n",
       "1  0.0  0.0  0.0  0.0  0.0  0.0  1.0  0.0  0.0     0  \n",
       "2  1.0  0.0  0.0  0.0  1.0  0.0  0.0  0.0  0.0     1  \n",
       "3  0.0  0.0  0.0  0.0  0.0  1.0  0.0  0.0  0.0     1  \n",
       "4  0.0  0.0  1.0  0.0  0.0  0.0  0.0  0.0  0.0     0  \n",
       "\n",
       "[5 rows x 30 columns]"
      ]
     },
     "execution_count": 3,
     "metadata": {},
     "output_type": "execute_result"
    }
   ],
   "source": [
    "#@title 1.4. RETRIEVE DATA\n",
    "df = credit_data_retrieval()\n",
    "df.head()"
   ]
  },
  {
   "cell_type": "code",
   "execution_count": 4,
   "metadata": {},
   "outputs": [
    {
     "name": "stdout",
     "output_type": "stream",
     "text": [
      "cpu\n"
     ]
    }
   ],
   "source": [
    "from kan import *\n",
    "torch.set_default_dtype(torch.float64)\n",
    "\n",
    "device = torch.device('cuda' if torch.cuda.is_available() else 'cpu')\n",
    "print(device)\n",
    "\n",
    "# create a KAN: 2D inputs, 1D output, and 5 hidden neurons. cubic spline (k=3), 5 grid intervals (grid=5).\n",
    "# model = KAN(width=[24, 1], grid=3, k=3, seed=42, device=device)"
   ]
  },
  {
   "cell_type": "code",
   "execution_count": 6,
   "metadata": {},
   "outputs": [
    {
     "name": "stdout",
     "output_type": "stream",
     "text": [
      "Fold 1\n"
     ]
    },
    {
     "name": "stderr",
     "output_type": "stream",
     "text": [
      "100%|██████████| 500/500 [00:16<00:00, 30.46it/s]\n"
     ]
    },
    {
     "name": "stdout",
     "output_type": "stream",
     "text": [
      "Learning Rate: 0.1, Train Accuracy: 0.8787500262260437, Test Accuracy: 0.7350000143051147\n",
      "Fold 2\n"
     ]
    },
    {
     "name": "stderr",
     "output_type": "stream",
     "text": [
      "100%|██████████| 500/500 [00:16<00:00, 30.45it/s]\n"
     ]
    },
    {
     "name": "stdout",
     "output_type": "stream",
     "text": [
      "Learning Rate: 0.1, Train Accuracy: 0.8762500286102295, Test Accuracy: 0.7149999737739563\n",
      "Fold 3\n"
     ]
    },
    {
     "name": "stderr",
     "output_type": "stream",
     "text": [
      "100%|██████████| 500/500 [00:16<00:00, 30.61it/s]\n"
     ]
    },
    {
     "name": "stdout",
     "output_type": "stream",
     "text": [
      "Learning Rate: 0.1, Train Accuracy: 0.8725000023841858, Test Accuracy: 0.7200000286102295\n",
      "Fold 4\n"
     ]
    },
    {
     "name": "stderr",
     "output_type": "stream",
     "text": [
      "100%|██████████| 500/500 [00:16<00:00, 30.55it/s]\n"
     ]
    },
    {
     "name": "stdout",
     "output_type": "stream",
     "text": [
      "Learning Rate: 0.1, Train Accuracy: 0.8387500047683716, Test Accuracy: 0.7400000095367432\n",
      "Fold 5\n"
     ]
    },
    {
     "name": "stderr",
     "output_type": "stream",
     "text": [
      "100%|██████████| 500/500 [00:16<00:00, 30.64it/s]\n"
     ]
    },
    {
     "name": "stdout",
     "output_type": "stream",
     "text": [
      "Learning Rate: 0.1, Train Accuracy: 0.862500011920929, Test Accuracy: 0.7099999785423279\n",
      "Average Train Accuracy: 0.866\n",
      "Average Test Accuracy: 0.724\n"
     ]
    }
   ],
   "source": [
    "from sklearn.model_selection import StratifiedKFold\n",
    "import torch.optim as optim\n",
    "import torch.nn as nn\n",
    "\n",
    "learning_rates = [0.1]\n",
    "accuracy_train = []\n",
    "accuracy_test = []\n",
    "\n",
    "# Set up 10-fold stratified cross-validation\n",
    "skf = StratifiedKFold(n_splits=5, shuffle=True, random_state=42)\n",
    "\n",
    "# Iterate over each fold\n",
    "for fold, (train_index, test_index) in enumerate(skf.split(df, df['Risk'])):\n",
    "    print(f\"Fold {fold + 1}\")\n",
    "\n",
    "    # Split the data into training and testing sets based on the current fold\n",
    "    df_train = df.iloc[train_index]\n",
    "    df_test = df.iloc[test_index]\n",
    "\n",
    "    # Create datasets from the train and test sets\n",
    "    dataset_train = CreditDataSet(df_train)\n",
    "    dataset_test = CreditDataSet(df_test)\n",
    "\n",
    "    # Create DataLoaders for training and testing\n",
    "    dataloader_train = DataLoader(\n",
    "        dataset_train,\n",
    "        batch_size=16,\n",
    "        shuffle=True,\n",
    "    )\n",
    "    dataloader_test = DataLoader(\n",
    "        dataset_test,\n",
    "        batch_size=16,\n",
    "        shuffle=False,\n",
    "    )\n",
    "\n",
    "    # Iterate over the learning rates (although only one in this example)\n",
    "    for lr in learning_rates:\n",
    "        net = Net(29)  # Re-initialize the network for each fold and learning rate\n",
    "        optimizer = optim.SGD(net.parameters(), lr=lr)\n",
    "        criterion = nn.BCEWithLogitsLoss()  # Binary cross-entropy loss\n",
    "\n",
    "        # Train the model on the current training fold\n",
    "        train_model(\n",
    "            optimizer=optimizer,\n",
    "            net=net,\n",
    "            criterion=criterion,\n",
    "            num_epochs=500,  # Adjust as needed\n",
    "            dataloader_train=dataloader_train,\n",
    "        )\n",
    "\n",
    "        # Evaluate the model on both the training and test sets\n",
    "        accuracy = evaluate_accuracy(net, dataloader_train)\n",
    "        val = evaluate_accuracy(net, dataloader_test)\n",
    "\n",
    "        print(f\"Learning Rate: {lr}, Train Accuracy: {accuracy}, Test Accuracy: {val}\")\n",
    "\n",
    "        # Store the accuracy results\n",
    "        accuracy_train.append(accuracy)\n",
    "        accuracy_test.append(val)\n",
    "\n",
    "# Optionally, summarize results across all folds\n",
    "print(f\"Average Train Accuracy: {sum(accuracy_train) / len(accuracy_train):.3f}\")\n",
    "print(f\"Average Test Accuracy: {sum(accuracy_test) / len(accuracy_test):.3f}\")\n"
   ]
  },
  {
   "cell_type": "code",
   "execution_count": null,
   "metadata": {},
   "outputs": [],
   "source": [
    "learning_rates = [0.1]\n",
    "accuracy_train = []\n",
    "accuracy_test = []\n",
    "\n",
    "# Perform grid search over learning rates\n",
    "for lr in learning_rates:\n",
    "    net = Net()  # Re-initialize the network for each experiment\n",
    "    optimizer = optim.SGD(net.parameters(), lr=lr)\n",
    "    criterion = nn.BCEWithLogitsLoss()  # Use standard binary cross-entropy\n",
    "\n",
    "    train_model(\n",
    "        optimizer=optimizer,\n",
    "        net=net,\n",
    "        criterion=criterion,\n",
    "        num_epochs=200,  # Use fewer epochs for quick testing\n",
    "        dataloader_train=dataloader_train\n",
    "    )\n",
    "    \n",
    "    # Evaluate accuracy on training data (or use a test/validation set if available)\n",
    "    accuracy = evaluate_accuracy(net, dataloader_train)\n",
    "    val = evaluate_accuracy(net, dataloader_test)\n",
    "\n",
    "    print(f\"Learning Rate: {lr}, Accuracy: {accuracy}, Test: {val}\")\n",
    "\n",
    "    accuracy_train.append(accuracy)\n",
    "    accuracy_test.append(val)\n",
    "\n",
    "# Plot the results\n",
    "plt.figure(figsize=(10, 6))\n",
    "plt.plot(learning_rates, accuracy_train, marker='o', linestyle='--', color='b', label='Accuracy')\n",
    "plt.plot(learning_rates, accuracy_test, marker='o', linestyle='--', color='r', label='Accuracy')\n",
    "\n",
    "plt.xlabel('Learning Rate')\n",
    "plt.ylabel('Accuracy')\n",
    "plt.title('Accuracy vs Learning Rate')\n",
    "plt.legend()\n",
    "plt.grid(True)\n",
    "plt.show()"
   ]
  }
 ],
 "metadata": {
  "kernelspec": {
   "display_name": "Python 3 (ipykernel)",
   "language": "python",
   "name": "python3"
  }
 },
 "nbformat": 4,
 "nbformat_minor": 2
}
