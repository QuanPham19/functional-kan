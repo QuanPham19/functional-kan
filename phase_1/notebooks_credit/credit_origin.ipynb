{
 "cells": [
  {
   "cell_type": "code",
   "execution_count": 16,
   "metadata": {},
   "outputs": [
    {
     "name": "stdout",
     "output_type": "stream",
     "text": [
      "cpu\n"
     ]
    }
   ],
   "source": [
    "#@title 1.3. IMPORT LIBRARY\n",
    "\n",
    "import sys\n",
    "sys.path.append('../utils')\n",
    "from credit_base import *\n",
    "from neural_net import *\n",
    "\n",
    "import numpy as np\n",
    "import pandas as pd\n",
    "import matplotlib.pyplot as plt\n",
    "\n",
    "from tqdm import tqdm\n",
    "from sklearn.model_selection import train_test_split, cross_val_score, KFold, StratifiedKFold\n",
    "from sklearn.preprocessing import StandardScaler, LabelEncoder\n",
    "\n",
    "from sklearn.linear_model import LogisticRegression\n",
    "from sklearn.naive_bayes import GaussianNB\n",
    "from sklearn.tree import DecisionTreeClassifier\n",
    "from sklearn.neural_network import MLPClassifier\n",
    "from sklearn.ensemble import RandomForestClassifier\n",
    "from sklearn.impute import KNNImputer, SimpleImputer\n",
    "\n",
    "import torch.nn as nn\n",
    "import torch.nn.functional as F\n",
    "import torch.optim as optim\n",
    "from torch.utils.data import Dataset, DataLoader\n",
    "from torchmetrics import Accuracy\n",
    "\n",
    "from kan import *\n",
    "torch.set_default_dtype(torch.float64)\n",
    "\n",
    "device = torch.device('cuda' if torch.cuda.is_available() else 'cpu')\n",
    "print(device)\n"
   ]
  },
  {
   "cell_type": "code",
   "execution_count": null,
   "metadata": {},
   "outputs": [],
   "source": [
    "from ucimlrepo import fetch_ucirepo \n",
    "  \n",
    "# fetch dataset \n",
    "statlog_german_credit_data = fetch_ucirepo(id=144) \n",
    "  \n",
    "# data (as pandas dataframes) \n",
    "X = statlog_german_credit_data.data.features \n",
    "y = statlog_german_credit_data.data.targets \n",
    "  \n",
    "X.columns = ['Checking account', 'Duration', 'Credit history', 'Purpose',\n",
    "            'Credit amount', 'Savings account', 'Employment since', 'Installment rate',\n",
    "            'Marital status', 'Other debtors/guarantors', 'Residence since',\n",
    "            'Property', 'Age', 'Other installments', 'Housing', 'Existing credits',\n",
    "            'Job', 'Maintenance people', 'Telephone', 'Foreign worker']\n",
    "# X.drop(columns=['Other installments', 'Maintenance people', 'Other debtors/guarantors'], inplace=True)\n",
    "X = pd.get_dummies(X, dtype='int')\n",
    "\n",
    "y['class'] = y['class'].map({1: 1, 2: 0})\n",
    "y.columns = ['Risk']\n",
    "\n",
    "\n",
    "X.head()"
   ]
  },
  {
   "cell_type": "code",
   "execution_count": 40,
   "metadata": {},
   "outputs": [
    {
     "data": {
      "text/html": [
       "<div>\n",
       "<style scoped>\n",
       "    .dataframe tbody tr th:only-of-type {\n",
       "        vertical-align: middle;\n",
       "    }\n",
       "\n",
       "    .dataframe tbody tr th {\n",
       "        vertical-align: top;\n",
       "    }\n",
       "\n",
       "    .dataframe thead th {\n",
       "        text-align: right;\n",
       "    }\n",
       "</style>\n",
       "<table border=\"1\" class=\"dataframe\">\n",
       "  <thead>\n",
       "    <tr style=\"text-align: right;\">\n",
       "      <th></th>\n",
       "      <th>Duration</th>\n",
       "      <th>Credit amount</th>\n",
       "      <th>Installment rate</th>\n",
       "      <th>Residence since</th>\n",
       "      <th>Age</th>\n",
       "      <th>Existing credits</th>\n",
       "      <th>Maintenance people</th>\n",
       "      <th>Checking account_A11</th>\n",
       "      <th>Checking account_A12</th>\n",
       "      <th>Checking account_A13</th>\n",
       "      <th>...</th>\n",
       "      <th>Housing_A153</th>\n",
       "      <th>Job_A171</th>\n",
       "      <th>Job_A172</th>\n",
       "      <th>Job_A173</th>\n",
       "      <th>Job_A174</th>\n",
       "      <th>Telephone_A191</th>\n",
       "      <th>Telephone_A192</th>\n",
       "      <th>Foreign worker_A201</th>\n",
       "      <th>Foreign worker_A202</th>\n",
       "      <th>Risk</th>\n",
       "    </tr>\n",
       "  </thead>\n",
       "  <tbody>\n",
       "    <tr>\n",
       "      <th>0</th>\n",
       "      <td>6</td>\n",
       "      <td>1169</td>\n",
       "      <td>4</td>\n",
       "      <td>4</td>\n",
       "      <td>67</td>\n",
       "      <td>2</td>\n",
       "      <td>1</td>\n",
       "      <td>1</td>\n",
       "      <td>0</td>\n",
       "      <td>0</td>\n",
       "      <td>...</td>\n",
       "      <td>0</td>\n",
       "      <td>0</td>\n",
       "      <td>0</td>\n",
       "      <td>1</td>\n",
       "      <td>0</td>\n",
       "      <td>0</td>\n",
       "      <td>1</td>\n",
       "      <td>1</td>\n",
       "      <td>0</td>\n",
       "      <td>1</td>\n",
       "    </tr>\n",
       "    <tr>\n",
       "      <th>1</th>\n",
       "      <td>48</td>\n",
       "      <td>5951</td>\n",
       "      <td>2</td>\n",
       "      <td>2</td>\n",
       "      <td>22</td>\n",
       "      <td>1</td>\n",
       "      <td>1</td>\n",
       "      <td>0</td>\n",
       "      <td>1</td>\n",
       "      <td>0</td>\n",
       "      <td>...</td>\n",
       "      <td>0</td>\n",
       "      <td>0</td>\n",
       "      <td>0</td>\n",
       "      <td>1</td>\n",
       "      <td>0</td>\n",
       "      <td>1</td>\n",
       "      <td>0</td>\n",
       "      <td>1</td>\n",
       "      <td>0</td>\n",
       "      <td>0</td>\n",
       "    </tr>\n",
       "    <tr>\n",
       "      <th>2</th>\n",
       "      <td>12</td>\n",
       "      <td>2096</td>\n",
       "      <td>2</td>\n",
       "      <td>3</td>\n",
       "      <td>49</td>\n",
       "      <td>1</td>\n",
       "      <td>2</td>\n",
       "      <td>0</td>\n",
       "      <td>0</td>\n",
       "      <td>0</td>\n",
       "      <td>...</td>\n",
       "      <td>0</td>\n",
       "      <td>0</td>\n",
       "      <td>1</td>\n",
       "      <td>0</td>\n",
       "      <td>0</td>\n",
       "      <td>1</td>\n",
       "      <td>0</td>\n",
       "      <td>1</td>\n",
       "      <td>0</td>\n",
       "      <td>1</td>\n",
       "    </tr>\n",
       "    <tr>\n",
       "      <th>3</th>\n",
       "      <td>42</td>\n",
       "      <td>7882</td>\n",
       "      <td>2</td>\n",
       "      <td>4</td>\n",
       "      <td>45</td>\n",
       "      <td>1</td>\n",
       "      <td>2</td>\n",
       "      <td>1</td>\n",
       "      <td>0</td>\n",
       "      <td>0</td>\n",
       "      <td>...</td>\n",
       "      <td>1</td>\n",
       "      <td>0</td>\n",
       "      <td>0</td>\n",
       "      <td>1</td>\n",
       "      <td>0</td>\n",
       "      <td>1</td>\n",
       "      <td>0</td>\n",
       "      <td>1</td>\n",
       "      <td>0</td>\n",
       "      <td>1</td>\n",
       "    </tr>\n",
       "    <tr>\n",
       "      <th>4</th>\n",
       "      <td>24</td>\n",
       "      <td>4870</td>\n",
       "      <td>3</td>\n",
       "      <td>4</td>\n",
       "      <td>53</td>\n",
       "      <td>2</td>\n",
       "      <td>2</td>\n",
       "      <td>1</td>\n",
       "      <td>0</td>\n",
       "      <td>0</td>\n",
       "      <td>...</td>\n",
       "      <td>1</td>\n",
       "      <td>0</td>\n",
       "      <td>0</td>\n",
       "      <td>1</td>\n",
       "      <td>0</td>\n",
       "      <td>1</td>\n",
       "      <td>0</td>\n",
       "      <td>1</td>\n",
       "      <td>0</td>\n",
       "      <td>0</td>\n",
       "    </tr>\n",
       "  </tbody>\n",
       "</table>\n",
       "<p>5 rows × 62 columns</p>\n",
       "</div>"
      ],
      "text/plain": [
       "   Duration  Credit amount  Installment rate  Residence since  Age  \\\n",
       "0         6           1169                 4                4   67   \n",
       "1        48           5951                 2                2   22   \n",
       "2        12           2096                 2                3   49   \n",
       "3        42           7882                 2                4   45   \n",
       "4        24           4870                 3                4   53   \n",
       "\n",
       "   Existing credits  Maintenance people  Checking account_A11  \\\n",
       "0                 2                   1                     1   \n",
       "1                 1                   1                     0   \n",
       "2                 1                   2                     0   \n",
       "3                 1                   2                     1   \n",
       "4                 2                   2                     1   \n",
       "\n",
       "   Checking account_A12  Checking account_A13  ...  Housing_A153  Job_A171  \\\n",
       "0                     0                     0  ...             0         0   \n",
       "1                     1                     0  ...             0         0   \n",
       "2                     0                     0  ...             0         0   \n",
       "3                     0                     0  ...             1         0   \n",
       "4                     0                     0  ...             1         0   \n",
       "\n",
       "   Job_A172  Job_A173  Job_A174  Telephone_A191  Telephone_A192  \\\n",
       "0         0         1         0               0               1   \n",
       "1         0         1         0               1               0   \n",
       "2         1         0         0               1               0   \n",
       "3         0         1         0               1               0   \n",
       "4         0         1         0               1               0   \n",
       "\n",
       "   Foreign worker_A201  Foreign worker_A202  Risk  \n",
       "0                    1                    0     1  \n",
       "1                    1                    0     0  \n",
       "2                    1                    0     1  \n",
       "3                    1                    0     1  \n",
       "4                    1                    0     0  \n",
       "\n",
       "[5 rows x 62 columns]"
      ]
     },
     "execution_count": 40,
     "metadata": {},
     "output_type": "execute_result"
    }
   ],
   "source": [
    "df = pd.concat([X, y], axis=1)\n",
    "df.head()"
   ]
  },
  {
   "cell_type": "code",
   "execution_count": 41,
   "metadata": {},
   "outputs": [],
   "source": [
    "def train_acc():\n",
    "    return torch.mean((torch.argmax(model(dataset['train_input']), dim=1) == dataset['train_label']).type(dtype))\n",
    "\n",
    "def test_acc():\n",
    "    return torch.mean((torch.argmax(model(dataset['test_input']), dim=1) == dataset['test_label']).type(dtype))\n",
    "\n",
    "class FocalLoss(nn.Module):\n",
    "    def __init__(self, alpha=1, gamma=2):\n",
    "        super(FocalLoss, self).__init__()\n",
    "        self.alpha = alpha\n",
    "        self.gamma = gamma\n",
    "\n",
    "    def forward(self, logits, targets):\n",
    "        probs = torch.softmax(logits, dim=1)  # Convert logits to probabilities\n",
    "        probs_class_1 = probs[:, 1]  # Focus on class 1\n",
    "        targets = targets.double()\n",
    "        bce_loss = nn.BCELoss(reduction='none')(probs_class_1, targets)\n",
    "        pt = torch.where(targets == 1, probs_class_1, 1 - probs_class_1)\n",
    "        focal_loss = self.alpha * (1 - pt) ** self.gamma * bce_loss\n",
    "        return focal_loss.mean()\n",
    "\n",
    "criterion = FocalLoss(alpha=0.25, gamma=2)\n"
   ]
  },
  {
   "cell_type": "code",
   "execution_count": 49,
   "metadata": {},
   "outputs": [
    {
     "name": "stdout",
     "output_type": "stream",
     "text": [
      "Fold 1/5\n",
      "checkpoint directory created: ./model\n",
      "saving model version 0.0\n"
     ]
    },
    {
     "name": "stderr",
     "output_type": "stream",
     "text": [
      "description:   0%|                                                         | 0/1000 [00:00<?, ?it/s]"
     ]
    },
    {
     "name": "stderr",
     "output_type": "stream",
     "text": [
      "| train_loss: 6.69e-01 | test_loss: 6.97e-01 | reg: 2.86e+01 | : 100%|█| 1000/1000 [00:53<00:00, 18.\n"
     ]
    },
    {
     "name": "stdout",
     "output_type": "stream",
     "text": [
      "saving model version 0.1\n",
      "Fold accuracy: (0.7875, 0.775)\n",
      "Fold 2/5\n",
      "checkpoint directory created: ./model\n",
      "saving model version 0.0\n"
     ]
    },
    {
     "name": "stderr",
     "output_type": "stream",
     "text": [
      "| train_loss: 6.64e-01 | test_loss: 7.19e-01 | reg: 2.91e+01 | : 100%|█| 1000/1000 [00:52<00:00, 19.\n"
     ]
    },
    {
     "name": "stdout",
     "output_type": "stream",
     "text": [
      "saving model version 0.1\n",
      "Fold accuracy: (0.79, 0.76)\n",
      "Fold 3/5\n",
      "checkpoint directory created: ./model\n",
      "saving model version 0.0\n"
     ]
    },
    {
     "name": "stderr",
     "output_type": "stream",
     "text": [
      "| train_loss: 6.71e-01 | test_loss: 7.04e-01 | reg: 2.59e+01 | : 100%|█| 1000/1000 [00:52<00:00, 19.\n"
     ]
    },
    {
     "name": "stdout",
     "output_type": "stream",
     "text": [
      "saving model version 0.1\n",
      "Fold accuracy: (0.795, 0.74)\n",
      "Fold 4/5\n",
      "checkpoint directory created: ./model\n",
      "saving model version 0.0\n"
     ]
    },
    {
     "name": "stderr",
     "output_type": "stream",
     "text": [
      "| train_loss: 6.76e-01 | test_loss: 6.79e-01 | reg: 2.70e+01 | : 100%|█| 1000/1000 [00:51<00:00, 19.\n"
     ]
    },
    {
     "name": "stdout",
     "output_type": "stream",
     "text": [
      "saving model version 0.1\n",
      "Fold accuracy: (0.78875, 0.795)\n",
      "Fold 5/5\n",
      "checkpoint directory created: ./model\n",
      "saving model version 0.0\n"
     ]
    },
    {
     "name": "stderr",
     "output_type": "stream",
     "text": [
      "| train_loss: 6.71e-01 | test_loss: 7.06e-01 | reg: 2.62e+01 | : 100%|█| 1000/1000 [00:51<00:00, 19."
     ]
    },
    {
     "name": "stdout",
     "output_type": "stream",
     "text": [
      "saving model version 0.1\n",
      "Fold accuracy: (0.78875, 0.77)\n",
      "Average Train Accuracy: 0.7900\n",
      "Average Test Accuracy: 0.7680\n"
     ]
    },
    {
     "name": "stderr",
     "output_type": "stream",
     "text": [
      "\n"
     ]
    }
   ],
   "source": [
    "skf = StratifiedKFold(n_splits=5, shuffle=True, random_state=42)\n",
    "n = df.shape[1] - 1\n",
    "\n",
    "train_accuracies = []\n",
    "test_accuracies = []\n",
    "\n",
    "# Perform 5-fold stratified cross-validation\n",
    "for fold, (train_idx, test_idx) in enumerate(skf.split(df, df['Risk'])):\n",
    "    print(f\"Fold {fold+1}/{5}\")\n",
    "    \n",
    "    # Split the data for this fold\n",
    "    df_train, df_test = df.iloc[train_idx], df.iloc[test_idx]\n",
    "    X_train, y_train = df_train.drop(columns='Risk'), df_train['Risk']\n",
    "    X_test, y_test = df_test.drop(columns='Risk'), df_test['Risk']\n",
    "    \n",
    "    # Prepare the dataset\n",
    "    dataset = dict()\n",
    "    dtype = torch.get_default_dtype()\n",
    "    dataset['train_input'] = torch.from_numpy(X_train.values).type(dtype).to(device)\n",
    "    dataset['train_label'] = torch.from_numpy(y_train.values).type(torch.long).to(device)\n",
    "    dataset['test_input'] = torch.from_numpy(X_test.values).type(dtype).to(device)\n",
    "    dataset['test_label'] = torch.from_numpy(y_test.values).type(torch.long).to(device)\n",
    "\n",
    "    # Initialize model\n",
    "    model = KAN(width=[n, 6, 2], grid=3, k=2, seed=42, device=device)\n",
    "\n",
    "    # Train the model and evaluate it\n",
    "    results = model.fit(dataset, opt=\"Adam\", steps=1000, lr=0.001, lamb=0.001, metrics=(train_acc, test_acc), loss_fn=torch.nn.CrossEntropyLoss())\n",
    "\n",
    "    print(f'Fold accuracy: {results['train_acc'][-1], results['test_acc'][-1]}')\n",
    "    \n",
    "    train_accuracies.append(results['train_acc'][-1])\n",
    "    test_accuracies.append(results['test_acc'][-1])\n",
    "\n",
    "# Output the average accuracies\n",
    "print(f\"Average Train Accuracy: {torch.mean(torch.tensor(train_accuracies)):.4f}\")\n",
    "print(f\"Average Test Accuracy: {torch.mean(torch.tensor(test_accuracies)):.4f}\")"
   ]
  },
  {
   "cell_type": "code",
   "execution_count": null,
   "metadata": {},
   "outputs": [],
   "source": []
  }
 ],
 "metadata": {
  "kernelspec": {
   "display_name": "Python 3 (ipykernel)",
   "language": "python",
   "name": "python3"
  },
  "language_info": {
   "codemirror_mode": {
    "name": "ipython",
    "version": 3
   },
   "file_extension": ".py",
   "mimetype": "text/x-python",
   "name": "python",
   "nbconvert_exporter": "python",
   "pygments_lexer": "ipython3",
   "version": "3.12.1"
  }
 },
 "nbformat": 4,
 "nbformat_minor": 2
}
