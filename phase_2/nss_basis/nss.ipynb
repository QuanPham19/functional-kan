{
 "cells": [
  {
   "cell_type": "code",
   "execution_count": 48,
   "metadata": {},
   "outputs": [],
   "source": [
    "import numpy as np\n",
    "import pandas as pd\n",
    "import math\n",
    "import matplotlib.pyplot as plt"
   ]
  },
  {
   "cell_type": "code",
   "execution_count": 3,
   "metadata": {},
   "outputs": [],
   "source": [
    "def nss(beta, maturity, lamb=0.0609):\n",
    "    return beta[0] + beta[1] * ( (1 - math.exp(-lamb * maturity)) / (lamb * maturity)) + beta[2] * ( (1 - math.exp(-lamb * maturity)) / (lamb * maturity) - math.exp(-lamb * maturity))"
   ]
  },
  {
   "cell_type": "code",
   "execution_count": 37,
   "metadata": {},
   "outputs": [
    {
     "data": {
      "text/plain": [
       "[<matplotlib.lines.Line2D at 0x7c7db3646660>]"
      ]
     },
     "execution_count": 37,
     "metadata": {},
     "output_type": "execute_result"
    },
    {
     "data": {
      "image/png": "[encoded data removed]",
      "text/plain": [
       "<Figure size 640x480 with 1 Axes>"
      ]
     },
     "metadata": {},
     "output_type": "display_data"
    }
   ],
   "source": [
    "lst = []\n",
    "maturities = [1/12, 2/12, 3/12, 6/12, 1, 2, 3, 5, 7, 10, 20, 30]\n",
    "\n",
    "for maturity in maturities:\n",
    "    lst.append(nss([2, 5, -10], maturity, lamb=0.5))\n",
    "\n",
    "plt.plot(maturities, lst)\n",
    "\n",
    "# IN LAYER WILL CONSIST OF 8 ELEMENTS (COEFS OF 8 BASIS SPLINES)\n",
    "# OUT LAYER WILL CONSIST OF 4 ELEMENTS (BETA_0, BETA_1, BETA_2, LAMBDA)"
   ]
  },
  {
   "cell_type": "code",
   "execution_count": 55,
   "metadata": {},
   "outputs": [
    {
     "data": {
      "text/plain": [
       "[<matplotlib.lines.Line2D at 0x7c7dab827da0>]"
      ]
     },
     "execution_count": 55,
     "metadata": {},
     "output_type": "execute_result"
    },
    {
     "data": {
      "image/png": "[encoded data removed]",
      "text/plain": [
       "<Figure size 640x480 with 1 Axes>"
      ]
     },
     "metadata": {},
     "output_type": "display_data"
    }
   ],
   "source": [
    "def nss(coef=pd.Series([2, 5, -10, 0.5]), maturity=np.array([1/12, 2/12, 3/12, 6/12, 1, 2, 3, 5, 7, 10, 20, 30])):\n",
    "    maturity = np.asarray(maturity)  # Ensure maturity is a NumPy array\n",
    "    term1 = (1 - np.exp(-coef.iloc[3] * maturity)) / (coef.iloc[3] * maturity)\n",
    "    term2 = term1 - np.exp(-coef.iloc[3] * maturity)\n",
    "    return coef.iloc[0] + coef.iloc[1] * term1 + coef.iloc[2] * term2\n",
    "\n",
    "yld = nss()\n",
    "plt.plot(maturities, yld)"
   ]
  },
  {
   "cell_type": "code",
   "execution_count": 56,
   "metadata": {},
   "outputs": [
    {
     "data": {
      "text/html": [
       "<div>\n",
       "<style scoped>\n",
       "    .dataframe tbody tr th:only-of-type {\n",
       "        vertical-align: middle;\n",
       "    }\n",
       "\n",
       "    .dataframe tbody tr th {\n",
       "        vertical-align: top;\n",
       "    }\n",
       "\n",
       "    .dataframe thead th {\n",
       "        text-align: right;\n",
       "    }\n",
       "</style>\n",
       "<table border=\"1\" class=\"dataframe\">\n",
       "  <thead>\n",
       "    <tr style=\"text-align: right;\">\n",
       "      <th></th>\n",
       "      <th>beta_0</th>\n",
       "      <th>beta_1</th>\n",
       "      <th>beta_2</th>\n",
       "      <th>beta_3</th>\n",
       "    </tr>\n",
       "  </thead>\n",
       "  <tbody>\n",
       "    <tr>\n",
       "      <th>0</th>\n",
       "      <td>1</td>\n",
       "      <td>2</td>\n",
       "      <td>3</td>\n",
       "      <td>0.5</td>\n",
       "    </tr>\n",
       "    <tr>\n",
       "      <th>1</th>\n",
       "      <td>2</td>\n",
       "      <td>3</td>\n",
       "      <td>1</td>\n",
       "      <td>0.7</td>\n",
       "    </tr>\n",
       "    <tr>\n",
       "      <th>2</th>\n",
       "      <td>3</td>\n",
       "      <td>4</td>\n",
       "      <td>2</td>\n",
       "      <td>0.1</td>\n",
       "    </tr>\n",
       "    <tr>\n",
       "      <th>3</th>\n",
       "      <td>4</td>\n",
       "      <td>1</td>\n",
       "      <td>4</td>\n",
       "      <td>0.2</td>\n",
       "    </tr>\n",
       "  </tbody>\n",
       "</table>\n",
       "</div>"
      ],
      "text/plain": [
       "   beta_0  beta_1  beta_2  beta_3\n",
       "0       1       2       3     0.5\n",
       "1       2       3       1     0.7\n",
       "2       3       4       2     0.1\n",
       "3       4       1       4     0.2"
      ]
     },
     "execution_count": 56,
     "metadata": {},
     "output_type": "execute_result"
    }
   ],
   "source": [
    "df = pd.DataFrame({\n",
    "    'beta_0': [1, 2, 3, 4],\n",
    "    'beta_1': [2, 3, 4, 1],\n",
    "    'beta_2': [3, 1, 2, 4],\n",
    "    'beta_3': [0.5, 0.7, 0.1, 0.2]\n",
    "})\n",
    "df"
   ]
  },
  {
   "cell_type": "code",
   "execution_count": 57,
   "metadata": {},
   "outputs": [
    {
     "data": {
      "text/html": [
       "<div>\n",
       "<style scoped>\n",
       "    .dataframe tbody tr th:only-of-type {\n",
       "        vertical-align: middle;\n",
       "    }\n",
       "\n",
       "    .dataframe tbody tr th {\n",
       "        vertical-align: top;\n",
       "    }\n",
       "\n",
       "    .dataframe thead th {\n",
       "        text-align: right;\n",
       "    }\n",
       "</style>\n",
       "<table border=\"1\" class=\"dataframe\">\n",
       "  <thead>\n",
       "    <tr style=\"text-align: right;\">\n",
       "      <th></th>\n",
       "      <th>0</th>\n",
       "      <th>1</th>\n",
       "      <th>2</th>\n",
       "      <th>3</th>\n",
       "      <th>4</th>\n",
       "      <th>5</th>\n",
       "      <th>6</th>\n",
       "      <th>7</th>\n",
       "      <th>8</th>\n",
       "      <th>9</th>\n",
       "      <th>10</th>\n",
       "      <th>11</th>\n",
       "    </tr>\n",
       "  </thead>\n",
       "  <tbody>\n",
       "    <tr>\n",
       "      <th>0</th>\n",
       "      <td>3.019697</td>\n",
       "      <td>3.037202</td>\n",
       "      <td>3.052633</td>\n",
       "      <td>3.087582</td>\n",
       "      <td>3.115101</td>\n",
       "      <td>3.056964</td>\n",
       "      <td>2.920176</td>\n",
       "      <td>2.589575</td>\n",
       "      <td>2.294840</td>\n",
       "      <td>1.973048</td>\n",
       "      <td>1.499841</td>\n",
       "      <td>1.333332</td>\n",
       "    </tr>\n",
       "    <tr>\n",
       "      <th>1</th>\n",
       "      <td>4.942234</td>\n",
       "      <td>4.885600</td>\n",
       "      <td>4.830097</td>\n",
       "      <td>4.670305</td>\n",
       "      <td>4.380070</td>\n",
       "      <td>3.905983</td>\n",
       "      <td>3.549055</td>\n",
       "      <td>3.078148</td>\n",
       "      <td>2.802801</td>\n",
       "      <td>2.569996</td>\n",
       "      <td>2.285713</td>\n",
       "      <td>2.190476</td>\n",
       "    </tr>\n",
       "    <tr>\n",
       "      <th>2</th>\n",
       "      <td>6.991667</td>\n",
       "      <td>6.983334</td>\n",
       "      <td>6.975001</td>\n",
       "      <td>6.950010</td>\n",
       "      <td>6.900080</td>\n",
       "      <td>6.800616</td>\n",
       "      <td>6.701999</td>\n",
       "      <td>6.508571</td>\n",
       "      <td>6.321813</td>\n",
       "      <td>6.056964</td>\n",
       "      <td>5.323324</td>\n",
       "      <td>4.800852</td>\n",
       "    </tr>\n",
       "    <tr>\n",
       "      <th>3</th>\n",
       "      <td>5.024678</td>\n",
       "      <td>5.048721</td>\n",
       "      <td>5.072140</td>\n",
       "      <td>5.138779</td>\n",
       "      <td>5.256808</td>\n",
       "      <td>5.439719</td>\n",
       "      <td>5.564656</td>\n",
       "      <td>5.689085</td>\n",
       "      <td>5.704337</td>\n",
       "      <td>5.620321</td>\n",
       "      <td>5.153843</td>\n",
       "      <td>4.821353</td>\n",
       "    </tr>\n",
       "  </tbody>\n",
       "</table>\n",
       "</div>"
      ],
      "text/plain": [
       "         0         1         2         3         4         5         6   \\\n",
       "0  3.019697  3.037202  3.052633  3.087582  3.115101  3.056964  2.920176   \n",
       "1  4.942234  4.885600  4.830097  4.670305  4.380070  3.905983  3.549055   \n",
       "2  6.991667  6.983334  6.975001  6.950010  6.900080  6.800616  6.701999   \n",
       "3  5.024678  5.048721  5.072140  5.138779  5.256808  5.439719  5.564656   \n",
       "\n",
       "         7         8         9         10        11  \n",
       "0  2.589575  2.294840  1.973048  1.499841  1.333332  \n",
       "1  3.078148  2.802801  2.569996  2.285713  2.190476  \n",
       "2  6.508571  6.321813  6.056964  5.323324  4.800852  \n",
       "3  5.689085  5.704337  5.620321  5.153843  4.821353  "
      ]
     },
     "execution_count": 57,
     "metadata": {},
     "output_type": "execute_result"
    }
   ],
   "source": [
    "df.apply(nss, axis=1, result_type=\"expand\")"
   ]
  },
  {
   "cell_type": "code",
   "execution_count": null,
   "metadata": {},
   "outputs": [],
   "source": []
  }
 ],
 "metadata": {
  "kernelspec": {
   "display_name": "Python 3 (ipykernel)",
   "language": "python",
   "name": "python3"
  }
 },
 "nbformat": 4,
 "nbformat_minor": 2
}
