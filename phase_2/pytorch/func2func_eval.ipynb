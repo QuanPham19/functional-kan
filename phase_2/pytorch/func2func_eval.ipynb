{
 "cells": [
  {
   "cell_type": "code",
   "execution_count": 1,
   "metadata": {},
   "outputs": [],
   "source": [
    "import pickle\n",
    "import numpy as np \n",
    "import pandas as pd \n",
    "import math\n",
    "\n",
    "from sklearn.metrics import mean_squared_error as mse"
   ]
  },
  {
   "cell_type": "code",
   "execution_count": 2,
   "metadata": {},
   "outputs": [
    {
     "data": {
      "text/html": [
       "<div>\n",
       "<style scoped>\n",
       "    .dataframe tbody tr th:only-of-type {\n",
       "        vertical-align: middle;\n",
       "    }\n",
       "\n",
       "    .dataframe tbody tr th {\n",
       "        vertical-align: top;\n",
       "    }\n",
       "\n",
       "    .dataframe thead th {\n",
       "        text-align: right;\n",
       "    }\n",
       "</style>\n",
       "<table border=\"1\" class=\"dataframe\">\n",
       "  <thead>\n",
       "    <tr style=\"text-align: right;\">\n",
       "      <th></th>\n",
       "      <th>Basis_0</th>\n",
       "      <th>Basis_1</th>\n",
       "      <th>Basis_2</th>\n",
       "      <th>Basis_3</th>\n",
       "      <th>Basis_4</th>\n",
       "      <th>Basis_5</th>\n",
       "      <th>Basis_6</th>\n",
       "      <th>Basis_7</th>\n",
       "    </tr>\n",
       "  </thead>\n",
       "  <tbody>\n",
       "    <tr>\n",
       "      <th>10</th>\n",
       "      <td>False</td>\n",
       "      <td>False</td>\n",
       "      <td>False</td>\n",
       "      <td>False</td>\n",
       "      <td>False</td>\n",
       "      <td>False</td>\n",
       "      <td>False</td>\n",
       "      <td>False</td>\n",
       "    </tr>\n",
       "    <tr>\n",
       "      <th>20</th>\n",
       "      <td>False</td>\n",
       "      <td>False</td>\n",
       "      <td>False</td>\n",
       "      <td>False</td>\n",
       "      <td>False</td>\n",
       "      <td>True</td>\n",
       "      <td>False</td>\n",
       "      <td>True</td>\n",
       "    </tr>\n",
       "  </tbody>\n",
       "</table>\n",
       "</div>"
      ],
      "text/plain": [
       "    Basis_0  Basis_1  Basis_2  Basis_3  Basis_4  Basis_5  Basis_6  Basis_7\n",
       "10    False    False    False    False    False    False    False    False\n",
       "20    False    False    False    False    False     True    False     True"
      ]
     },
     "execution_count": 2,
     "metadata": {},
     "output_type": "execute_result"
    }
   ],
   "source": [
    "# cols = truth_df.columns\n",
    "# mode = 'two-sided'\n",
    "cross_val_list = [10, 20]\n",
    "\n",
    "result = dict()\n",
    "for i in range(8):\n",
    "    result[i] = list()\n",
    "\n",
    "for cross_val_window in cross_val_list:\n",
    "    with open(f\"dfs_{cross_val_window}_steps_ahead.pkl\", \"rb\") as file:\n",
    "        loaded_dataframes = pickle.load(file)\n",
    "\n",
    "    # Extract individual DataFrames\n",
    "    naive_df = loaded_dataframes[\"naive_df\"]\n",
    "    kan_df = loaded_dataframes[\"kan_df\"]\n",
    "    truth_df = loaded_dataframes[\"truth_df\"]\n",
    "\n",
    "    for i in range(8):\n",
    "        y1 = kan_df.iloc[:, i].values\n",
    "        y2 = naive_df.iloc[:, i].values\n",
    "        y = truth_df.iloc[:, i].values\n",
    "\n",
    "        # print(f'{cols[i]}: {dm_test(y, y1, y2, h=1, mode=mode)}')\n",
    "        # print(f'{cols[i]}, h={cross_val_window}: {mse(y1, y, squared=False):.2f}, {mse(y2, y, squared=False):.2f}')\n",
    "        if mse(y1, y) < mse(y2, y):\n",
    "            result[i].append(True)\n",
    "        else:\n",
    "            result[i].append(False)\n",
    "\n",
    "out = pd.DataFrame(result)\n",
    "out.columns = [f'Basis_{i}' for i in range(8)]\n",
    "out.index = cross_val_list\n",
    "out\n"
   ]
  },
  {
   "cell_type": "code",
   "execution_count": null,
   "metadata": {},
   "outputs": [],
   "source": []
  }
 ],
 "metadata": {
  "kernelspec": {
   "display_name": "Python 3 (ipykernel)",
   "language": "python",
   "name": "python3"
  },
  "language_info": {
   "codemirror_mode": {
    "name": "ipython",
    "version": 3
   },
   "file_extension": ".py",
   "mimetype": "text/x-python",
   "name": "python",
   "nbconvert_exporter": "python",
   "pygments_lexer": "ipython3",
   "version": "3.12.1"
  }
 },
 "nbformat": 4,
 "nbformat_minor": 2
}
