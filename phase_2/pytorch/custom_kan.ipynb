{
 "cells": [
  {
   "cell_type": "code",
   "execution_count": 5,
   "metadata": {},
   "outputs": [],
   "source": [
    "import numpy as np\n",
    "import torch\n",
    "import torch.nn.functional as F\n",
    "import torch.nn as nn\n",
    "from torch.utils.data import DataLoader, TensorDataset"
   ]
  },
  {
   "cell_type": "markdown",
   "metadata": {},
   "source": [
    "## Spline-related functions"
   ]
  },
  {
   "cell_type": "code",
   "execution_count": 6,
   "metadata": {},
   "outputs": [],
   "source": [
    "def B_batch(x, grid, k=0, extend=True, device='cpu'):\n",
    "    '''\n",
    "    evaludate x on B-spline bases\n",
    "    \n",
    "    Args:\n",
    "    -----\n",
    "        x : 2D torch.tensor\n",
    "            inputs, shape (number of splines, number of samples)\n",
    "        grid : 2D torch.tensor\n",
    "            grids, shape (number of splines, number of grid points)\n",
    "        k : int\n",
    "            the piecewise polynomial order of splines.\n",
    "        extend : bool\n",
    "            If True, k points are extended on both ends. If False, no extension (zero boundary condition). Default: True\n",
    "        device : str\n",
    "            devicde\n",
    "    \n",
    "    Returns:\n",
    "    --------\n",
    "        spline values : 3D torch.tensor\n",
    "            shape (batch, in_dim, G+k). G: the number of grid intervals, k: spline order.\n",
    "      \n",
    "    Example\n",
    "    -------\n",
    "    >>> from kan.spline import B_batch\n",
    "    >>> x = torch.rand(100,2)\n",
    "    >>> grid = torch.linspace(-1,1,steps=11)[None, :].expand(2, 11)\n",
    "    >>> B_batch(x, grid, k=3).shape\n",
    "    '''\n",
    "    \n",
    "    x = x.unsqueeze(dim=2)\n",
    "    grid = grid.unsqueeze(dim=0)\n",
    "    \n",
    "    if k == 0:\n",
    "        value = (x >= grid[:, :, :-1]) * (x < grid[:, :, 1:])\n",
    "    else:\n",
    "        B_km1 = B_batch(x[:,:,0], grid=grid[0], k=k - 1)\n",
    "        \n",
    "        value = (x - grid[:, :, :-(k + 1)]) / (grid[:, :, k:-1] - grid[:, :, :-(k + 1)]) * B_km1[:, :, :-1] + (\n",
    "                    grid[:, :, k + 1:] - x) / (grid[:, :, k + 1:] - grid[:, :, 1:(-k)]) * B_km1[:, :, 1:]\n",
    "    \n",
    "    # in case grid is degenerate\n",
    "    value = torch.nan_to_num(value)\n",
    "    return value\n",
    "\n",
    "def extend_grid(grid, k_extend=0):\n",
    "    '''\n",
    "    extend grid\n",
    "    '''\n",
    "    h = (grid[:, [-1]] - grid[:, [0]]) / (grid.shape[1] - 1)\n",
    "\n",
    "    for i in range(k_extend):\n",
    "        grid = torch.cat([grid[:, [0]] - h, grid], dim=1)\n",
    "        grid = torch.cat([grid, grid[:, [-1]] + h], dim=1)\n",
    "\n",
    "    return grid\n",
    "\n",
    "def coef2curve(x_eval, grid, coef, k, device=\"cpu\"):\n",
    "    '''\n",
    "    converting B-spline coefficients to B-spline curves. Evaluate x on B-spline curves (summing up B_batch results over B-spline basis).\n",
    "    \n",
    "    Args:\n",
    "    -----\n",
    "        x_eval : 2D torch.tensor\n",
    "            shape (batch, in_dim)\n",
    "        grid : 2D torch.tensor\n",
    "            shape (in_dim, G+2k). G: the number of grid intervals; k: spline order.\n",
    "        coef : 3D torch.tensor\n",
    "            shape (in_dim, out_dim, G+k)\n",
    "        k : int\n",
    "            the piecewise polynomial order of splines.\n",
    "        device : str\n",
    "            devicde\n",
    "        \n",
    "    Returns:\n",
    "    --------\n",
    "        y_eval : 3D torch.tensor\n",
    "            shape (batch, in_dim, out_dim)\n",
    "        \n",
    "    '''\n",
    "    \n",
    "    b_splines = B_batch(x_eval, grid, k=k)\n",
    "    y_eval = torch.einsum('ijk,jlk->ijl', b_splines, coef.to(b_splines.device))\n",
    "    \n",
    "    return y_eval\n",
    "\n",
    "def curve2coef(x_eval, y_eval, grid, k):\n",
    "    '''\n",
    "    converting B-spline curves to B-spline coefficients using least squares.\n",
    "    \n",
    "    Args:\n",
    "    -----\n",
    "        x_eval : 2D torch.tensor\n",
    "            shape (batch, in_dim)\n",
    "        y_eval : 3D torch.tensor\n",
    "            shape (batch, in_dim, out_dim)\n",
    "        grid : 2D torch.tensor\n",
    "            shape (in_dim, grid+2*k)\n",
    "        k : int\n",
    "            spline order\n",
    "        lamb : float\n",
    "            regularized least square lambda\n",
    "            \n",
    "    Returns:\n",
    "    --------\n",
    "        coef : 3D torch.tensor\n",
    "            shape (in_dim, out_dim, G+k)\n",
    "    '''\n",
    "    #print('haha', x_eval.shape, y_eval.shape, grid.shape)\n",
    "    batch = x_eval.shape[0]\n",
    "    in_dim = x_eval.shape[1]\n",
    "    out_dim = y_eval.shape[2]\n",
    "    n_coef = grid.shape[1] - k - 1\n",
    "    mat = B_batch(x_eval, grid, k)\n",
    "    mat = mat.permute(1,0,2)[:,None,:,:].expand(in_dim, out_dim, batch, n_coef)\n",
    "    #print('mat', mat.shape)\n",
    "    y_eval = y_eval.permute(1,2,0).unsqueeze(dim=3)\n",
    "    #print('y_eval', y_eval.shape)\n",
    "    device = mat.device\n",
    "    \n",
    "    #coef = torch.linalg.lstsq(mat, y_eval, driver='gelsy' if device == 'cpu' else 'gels').solution[:,:,:,0]\n",
    "    try:\n",
    "        coef = torch.linalg.lstsq(mat, y_eval).solution[:,:,:,0]\n",
    "    except:\n",
    "        print('lstsq failed')\n",
    "    \n",
    "    # manual psuedo-inverse\n",
    "    '''lamb=1e-8\n",
    "    XtX = torch.einsum('ijmn,ijnp->ijmp', mat.permute(0,1,3,2), mat)\n",
    "    Xty = torch.einsum('ijmn,ijnp->ijmp', mat.permute(0,1,3,2), y_eval)\n",
    "    n1, n2, n = XtX.shape[0], XtX.shape[1], XtX.shape[2]\n",
    "    identity = torch.eye(n,n)[None, None, :, :].expand(n1, n2, n, n).to(device)\n",
    "    A = XtX + lamb * identity\n",
    "    B = Xty\n",
    "    coef = (A.pinverse() @ B)[:,:,:,0]'''\n",
    "    \n",
    "    return coef\n"
   ]
  },
  {
   "cell_type": "markdown",
   "metadata": {},
   "source": [
    "## KAN Layer definition"
   ]
  },
  {
   "cell_type": "code",
   "execution_count": 7,
   "metadata": {},
   "outputs": [],
   "source": [
    "class KANLayer(nn.Module):\n",
    "    def __init__(self, in_dim=3, out_dim=2, num=5, k=3, noise_scale=0.5, scale_base_mu=0.0, scale_base_sigma=1.0, scale_sp=1.0, base_fun=torch.nn.SiLU(), \n",
    "                grid_eps=0.02, grid_range=[-1, 1], sp_trainable=True, sb_trainable=True, save_plot_data = True, device='cpu', sparse_init=False):\n",
    "        \n",
    "        # Initialize KAN layer according to nn.Module\n",
    "        super(KANLayer, self).__init__()\n",
    "        \n",
    "        # Initialize output size, input size, number of grid points and order of splines\n",
    "        self.out_dim = out_dim\n",
    "        self.in_dim = in_dim\n",
    "        self.num = num\n",
    "        self.k = k\n",
    "\n",
    "        # Extend grid according to specified order of splines\n",
    "        grid = torch.linspace(grid_range[0], grid_range[1], steps=num + 1)[None,:].expand(self.in_dim, num+1)\n",
    "        grid = extend_grid(grid, k_extend=k)\n",
    "        self.grid = torch.nn.Parameter(grid).requires_grad_(False)\n",
    "        noises = (torch.rand(self.num+1, self.in_dim, self.out_dim) - 1/2) * noise_scale / num\n",
    "\n",
    "        # Initialize coefficients from noise\n",
    "        self.coef = torch.nn.Parameter(curve2coef(self.grid[:,k:-k].permute(1,0), noises, self.grid, k))\n",
    "        \n",
    "        if sparse_init:\n",
    "            self.mask = torch.nn.Parameter(sparse_mask(in_dim, out_dim)).requires_grad_(False)\n",
    "        else:\n",
    "            self.mask = torch.nn.Parameter(torch.ones(in_dim, out_dim)).requires_grad_(False)\n",
    "        \n",
    "        # Initialize coefficients of base function in activations\n",
    "        self.scale_base = torch.nn.Parameter(scale_base_mu * 1 / np.sqrt(in_dim) + \\\n",
    "                         scale_base_sigma * (torch.rand(in_dim, out_dim)*2-1) * 1/np.sqrt(in_dim)).requires_grad_(sb_trainable)\n",
    "        \n",
    "        # # Initialize coefficients of spline function in activations\n",
    "        self.scale_sp = torch.nn.Parameter(torch.ones(in_dim, out_dim) * scale_sp * 1 / np.sqrt(in_dim) * self.mask).requires_grad_(sp_trainable)  # make scale trainable\n",
    "\n",
    "        self.base_fun = base_fun\n",
    "        self.grid_eps = grid_eps\n",
    "        self.to(device)\n",
    "        \n",
    "    def to(self, device):\n",
    "        super(KANLayer, self).to(device)\n",
    "        self.device = device    \n",
    "        return self\n",
    "\n",
    "    def forward(self, x):\n",
    "\n",
    "        # Preacts are input data\n",
    "        batch = x.shape[0]\n",
    "        preacts = x[:,None,:].clone().expand(batch, self.out_dim, self.in_dim)\n",
    "            \n",
    "        base = self.base_fun(x) # (batch, in_dim)\n",
    "        y = coef2curve(x_eval=x, grid=self.grid, coef=self.coef, k=self.k)\n",
    "        \n",
    "        # Postspline is the 1D array after adding spline (from grids and coefs)\n",
    "        postspline = y.clone().permute(0,2,1)\n",
    "        \n",
    "        # Postacts are final values after base function (relu, silu)\n",
    "        y = self.scale_base[None,:,:] * base[:,:,None] + self.scale_sp[None,:,:] * y\n",
    "        y = self.mask[None,:,:] * y\n",
    "        postacts = y.clone().permute(0,2,1)\n",
    "        \n",
    "        # Perform summation on nodes\n",
    "        y = torch.sum(y, dim=1)\n",
    "        \n",
    "        return y, preacts, postacts, postspline"
   ]
  },
  {
   "cell_type": "markdown",
   "metadata": {},
   "source": [
    "## Number test"
   ]
  },
  {
   "cell_type": "code",
   "execution_count": 9,
   "metadata": {},
   "outputs": [
    {
     "data": {
      "text/plain": [
       "(torch.Size([10, 5]),\n",
       " torch.Size([10, 5, 3]),\n",
       " torch.Size([10, 5, 3]),\n",
       " torch.Size([10, 5, 3]))"
      ]
     },
     "execution_count": 9,
     "metadata": {},
     "output_type": "execute_result"
    }
   ],
   "source": [
    "model = KANLayer(in_dim=3, out_dim=5)\n",
    "x = torch.normal(0,1,size=(10,3))\n",
    "y, preacts, postacts, postspline = model(x)\n",
    "y.shape, preacts.shape, postacts.shape, postspline.shape"
   ]
  },
  {
   "cell_type": "code",
   "execution_count": 12,
   "metadata": {},
   "outputs": [
    {
     "data": {
      "text/plain": [
       "Parameter containing:\n",
       "tensor([[-2.2000, -1.8000, -1.4000, -1.0000, -0.6000, -0.2000,  0.2000,  0.6000,\n",
       "          1.0000,  1.4000,  1.8000,  2.2000],\n",
       "        [-2.2000, -1.8000, -1.4000, -1.0000, -0.6000, -0.2000,  0.2000,  0.6000,\n",
       "          1.0000,  1.4000,  1.8000,  2.2000],\n",
       "        [-2.2000, -1.8000, -1.4000, -1.0000, -0.6000, -0.2000,  0.2000,  0.6000,\n",
       "          1.0000,  1.4000,  1.8000,  2.2000]])"
      ]
     },
     "execution_count": 12,
     "metadata": {},
     "output_type": "execute_result"
    }
   ],
   "source": [
    "model.grid"
   ]
  },
  {
   "cell_type": "code",
   "execution_count": 10,
   "metadata": {},
   "outputs": [
    {
     "data": {
      "text/plain": [
       "tensor([[ 0.1577,  0.2098,  0.8069],\n",
       "        [-0.3472,  0.9898, -1.3866],\n",
       "        [ 2.5910, -0.9172,  0.9313],\n",
       "        [-1.9412, -0.1885,  0.6174],\n",
       "        [ 1.8303, -0.1185,  0.7934],\n",
       "        [ 0.5675, -1.3661,  1.5632],\n",
       "        [ 0.5183, -0.8264, -1.0139],\n",
       "        [-0.4844,  0.2779, -0.2367],\n",
       "        [ 0.5974, -1.4928, -1.8816],\n",
       "        [ 0.4388,  0.1251, -0.8757]])"
      ]
     },
     "execution_count": 10,
     "metadata": {},
     "output_type": "execute_result"
    }
   ],
   "source": [
    "x"
   ]
  },
  {
   "cell_type": "code",
   "execution_count": 11,
   "metadata": {},
   "outputs": [
    {
     "data": {
      "text/plain": [
       "tensor([[ 5.7244e-02,  2.0984e-02,  3.1399e-02,  2.2120e-01, -7.4917e-02],\n",
       "        [ 2.2105e-01,  1.3360e-01,  1.2514e-01, -3.4961e-02, -2.3607e-01],\n",
       "        [-1.1613e+00, -6.1719e-01,  7.0836e-01,  1.3818e+00, -4.8807e-01],\n",
       "        [ 1.7140e-01,  1.1064e-01, -5.4891e-02,  1.1370e-03,  5.7152e-02],\n",
       "        [-7.1880e-01, -3.6137e-01,  5.0905e-01,  9.6794e-01, -3.5186e-01],\n",
       "        [-4.5690e-02, -3.3452e-02,  4.3541e-02,  5.8902e-01, -9.2564e-02],\n",
       "        [-2.3495e-01, -1.4181e-01,  8.4621e-02,  3.6548e-02,  9.7733e-03],\n",
       "        [ 8.7276e-02,  5.1072e-02,  1.9832e-02, -9.1225e-02, -1.1589e-02],\n",
       "        [-2.9184e-01, -1.3167e-01,  7.9335e-02,  7.5553e-02, -5.5596e-03],\n",
       "        [-1.6121e-01, -7.2817e-02,  1.0928e-01,  4.6068e-02, -5.2629e-02]],\n",
       "       grad_fn=<SumBackward1>)"
      ]
     },
     "execution_count": 11,
     "metadata": {},
     "output_type": "execute_result"
    }
   ],
   "source": [
    "y"
   ]
  }
 ],
 "metadata": {
  "kernelspec": {
   "display_name": "Python 3 (ipykernel)",
   "language": "python",
   "name": "python3"
  },
  "language_info": {
   "codemirror_mode": {
    "name": "ipython",
    "version": 3
   },
   "file_extension": ".py",
   "mimetype": "text/x-python",
   "name": "python",
   "nbconvert_exporter": "python",
   "pygments_lexer": "ipython3",
   "version": "3.12.1"
  }
 },
 "nbformat": 4,
 "nbformat_minor": 2
}
